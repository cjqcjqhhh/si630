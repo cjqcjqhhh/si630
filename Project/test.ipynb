{
 "cells": [
  {
   "cell_type": "code",
   "execution_count": 3,
   "id": "68156299",
   "metadata": {},
   "outputs": [
    {
     "name": "stdout",
     "output_type": "stream",
     "text": [
      "Collecting tweepy\n",
      "  Downloading tweepy-4.6.0-py2.py3-none-any.whl (69 kB)\n",
      "Requirement already satisfied: requests<3,>=2.27.0 in d:\\software\\anaconda3\\lib\\site-packages (from tweepy) (2.27.1)\n",
      "Requirement already satisfied: oauthlib<4,>=3.2.0 in d:\\software\\anaconda3\\lib\\site-packages (from tweepy) (3.2.0)\n",
      "Requirement already satisfied: requests-oauthlib<2,>=1.2.0 in d:\\software\\anaconda3\\lib\\site-packages (from tweepy) (1.3.1)\n",
      "Requirement already satisfied: idna<4,>=2.5 in d:\\software\\anaconda3\\lib\\site-packages (from requests<3,>=2.27.0->tweepy) (3.3)\n",
      "Requirement already satisfied: certifi>=2017.4.17 in d:\\software\\anaconda3\\lib\\site-packages (from requests<3,>=2.27.0->tweepy) (2021.10.8)\n",
      "Requirement already satisfied: charset-normalizer~=2.0.0 in d:\\software\\anaconda3\\lib\\site-packages (from requests<3,>=2.27.0->tweepy) (2.0.4)\n",
      "Requirement already satisfied: urllib3<1.27,>=1.21.1 in d:\\software\\anaconda3\\lib\\site-packages (from requests<3,>=2.27.0->tweepy) (1.26.8)\n",
      "Installing collected packages: tweepy\n",
      "Successfully installed tweepy-4.6.0\n"
     ]
    }
   ],
   "source": [
    "! pip install tweepy"
   ]
  },
  {
   "cell_type": "code",
   "execution_count": 54,
   "id": "8501f74b",
   "metadata": {},
   "outputs": [],
   "source": [
    "import os\n",
    "import tweepy\n",
    "import pandas as pd"
   ]
  },
  {
   "cell_type": "code",
   "execution_count": 55,
   "id": "77a890d7",
   "metadata": {},
   "outputs": [],
   "source": [
    "bearer_token = \"AAAAAAAAAAAAAAAAAAAAAE1kaAEAAAAA5eq%2B9MQY1ZxmqsqI8hPhFTgXy%2BI%3DDiHeboF9HqPkABqkGhzUTegzzsJGvXvZNd0Op3kVi7TvZlhTMI\" \n",
    "consumer_key = \"kSuunUrf10tDwGT1PhNDWj4HY\"\n",
    "consumer_secret = \"Mg7Apz65TCxZqPhlnlQV8aBMuRhoDtFOljqbc3uoHp3F3uMzhh\"\n",
    "access_token = \"1239561788082933760-bUTmKDXfsLoBKlVBb3twda1jUkxQWK\"\n",
    "access_token_secret = \"jBxSnUcGx7l4OIfaGkIGmZQ6v3DAdq5tZyxmhP7J7w2dQ\""
   ]
  },
  {
   "cell_type": "markdown",
   "id": "2255b2d9",
   "metadata": {},
   "source": [
    "# Client"
   ]
  },
  {
   "cell_type": "code",
   "execution_count": 61,
   "id": "d1a1c380",
   "metadata": {},
   "outputs": [],
   "source": [
    "auth = tweepy.OAuthHandler(consumer_key, consumer_secret)\n",
    "auth.set_access_token(access_token, access_token_secret)\n",
    "api = tweepy.API(auth, wait_on_rate_limit=True)"
   ]
  },
  {
   "cell_type": "code",
   "execution_count": 62,
   "id": "aa7086c3",
   "metadata": {},
   "outputs": [],
   "source": [
    "client = tweepy.Client(\n",
    "    bearer_token,\n",
    "    consumer_key,\n",
    "    consumer_secret,\n",
    "    access_token,\n",
    "    access_token_secret\n",
    ")"
   ]
  },
  {
   "cell_type": "code",
   "execution_count": 71,
   "id": "24e2f3a3",
   "metadata": {},
   "outputs": [
    {
     "data": {
      "text/plain": [
       "{558190974: <User id=558190974 name=Boob lover username=ianwill01338202>,\n",
       " 473604998: <User id=473604998 name=BRUISER (B1B) username=BIGBRUISER863>,\n",
       " 1234175522353164294: <User id=1234175522353164294 name=🇨🇱🌳🇨🇱🌳🇨🇱🌳 Pafmer 🌳🇨🇱🌳🇨🇱🌳🇨🇱 username=Pafmer4>,\n",
       " 1502021383861145606: <User id=1502021383861145606 name=Makoto username=ShestudSquirrel>,\n",
       " 1960788289: <User id=1960788289 name=Christine❤🌜 username=learntolive09>,\n",
       " 1472672135940349959: <User id=1472672135940349959 name=Luna username=Lunabellaroja>,\n",
       " 1287959785439191044: <User id=1287959785439191044 name=☀️ sprinkles⁷ ☀️ username=seokjininggg13>,\n",
       " 1245929678050701318: <User id=1245929678050701318 name=Manoj Shukla👈🚩राम राज्य की ओर🚩🙏 username=Kumbh_nagri>,\n",
       " 828416667596312576: <User id=828416667596312576 name=Sophia Petrillo's great granddaughter username=mejustsaidthat>,\n",
       " 1382258510486978561: <User id=1382258510486978561 name=GhostsInMyHeart username=HeartGhosts>,\n",
       " 33712487: <User id=33712487 name=ecniv nella 🇨🇦🇺🇦 username=VinnieAllen>,\n",
       " 1038394300239896577: <User id=1038394300239896577 name=𝓛𝓸𝓿𝓮𝓵𝔂 username=L0veelyyy>,\n",
       " 1502362543062282240: <User id=1502362543062282240 name=june 🌸 username=neoculturekart>,\n",
       " 13205882: <User id=13205882 name=DougieNMySnuggy 🇺🇲 username=DougieNMeSnuggy>,\n",
       " 1450130235157065732: <User id=1450130235157065732 name=The Breach STARSET #CoMPaS username=JOSEEMIULLOA17>,\n",
       " 1500965643234988039: <User id=1500965643234988039 name=Rodrigo Pollo username=rodrigopollo_>,\n",
       " 746211798: <User id=746211798 name=Blue Valley Northwest High School Athletics username=BVNW_Athletics>,\n",
       " 1005293918005522432: <User id=1005293918005522432 name=muhzwan username=Kazehay87164905>,\n",
       " 772525460: <User id=772525460 name=Everyday win futures signals username=Everydaytrade12>,\n",
       " 1360656712139759623: <User id=1360656712139759623 name=nat ☺︎︎ IS SEEING PIWON username=jisucuddles>,\n",
       " 1414813031700131840: <User id=1414813031700131840 name=mikaela 🎀 username=dbpangilinan_>,\n",
       " 444449581: <User id=444449581 name=PHABIO®🇬🇭 username=Pinto_Clarks>,\n",
       " 1283477074120896514: <User id=1283477074120896514 name=Anurupa (Proud to be SSRIAN) username=AnurupaMondal3>,\n",
       " 732668549844602880: <User id=732668549844602880 name=jesse ❍ username=fantasycolIsion>,\n",
       " 1326373703672795141: <User id=1326373703672795141 name=💚💸 username=EddieSolo2>,\n",
       " 1398885684379856896: <User id=1398885684379856896 name=Samusideen username=Samusideen8>,\n",
       " 1082042507385597952: <User id=1082042507385597952 name=68leonudist username=gupsman88>,\n",
       " 1410268102168748034: <User id=1410268102168748034 name=Arcee Spillekort username=ASpillekort>,\n",
       " 277236047: <User id=277236047 name=TexAg_Will username=TexAg_Will>,\n",
       " 2748346599: <User id=2748346599 name=Connor Callaghan username=connorcally1>,\n",
       " 388419771: <User id=388419771 name=Fatso💋 username=BabeJahhh>,\n",
       " 4817275108: <User id=4817275108 name=Boż♡ena...🇵🇱 username=Stellmacher20>,\n",
       " 1497725365938176000: <User id=1497725365938176000 name=Christian Harvey Cole username=Christi58005805>,\n",
       " 1500518450485248006: <User id=1500518450485248006 name=Olivia Jones(Commission Open) username=oj6546311>,\n",
       " 303988242: <User id=303988242 name=Mode idle❤ username=L0reLyne>,\n",
       " 1270420094582091776: <User id=1270420094582091776 name=Lilyyn⭐Looking For Art Moots!!🌸⭐ username=mewwmew12105>,\n",
       " 1315572339736748033: <User id=1315572339736748033 name=paul banks username=Paulbanks007>,\n",
       " 1446759758170447875: <User id=1446759758170447875 name=Gracia Crypto username=intanmelii>,\n",
       " 1377067148829356034: <User id=1377067148829356034 name=qepri.xyz username=Qepri_xyz>,\n",
       " 1174733770890465280: <User id=1174733770890465280 name=ちづる(稚弦) username=chiz04m>,\n",
       " 912701110636482561: <User id=912701110636482561 name=Cory Wall username=CoryWall4>,\n",
       " 1487666309429006337: <User id=1487666309429006337 name=Benji |working on art| username=benji_jams>,\n",
       " 1449245138648064013: <User id=1449245138648064013 name=gwy; hoon's ꕤ lf moots username=mgyzshn>,\n",
       " 1352336476781092935: <User id=1352336476781092935 name=ydroxoos FAE FAER ⚢ username=corvusinacrisis>,\n",
       " 1465310722519355399: <User id=1465310722519355399 name=Gunbo username=Gunb0Mobile>,\n",
       " 1218998488471613440: <User id=1218998488471613440 name=dr. badvibes username=nikitamissle>,\n",
       " 103927387: <User id=103927387 name=tebas alv username=dalinhoyandel>,\n",
       " 1502357517963169792: <User id=1502357517963169792 name=hyunie || see 📍 username=jaeheeyeung>,\n",
       " 1497181806960988162: <User id=1497181806960988162 name=Crypto Gangsta Cats #Minting 7/99 username=cryptogangcats>,\n",
       " 1502357674003943425: <User id=1502357674003943425 name=Ahmad Dahcool username=DahcoolAhmad>,\n",
       " 1491219674851389442: <User id=1491219674851389442 name=KaponeAlone username=alone_kapone>,\n",
       " 1426137497734504455: <User id=1426137497734504455 name=𝓗𝓪𝓭𝓮𝓼 𝓔𝓲𝓵𝓮𝓲𝓽𝓱𝔂𝓲𝓪⁷ username=JennieV_G>,\n",
       " 952293073: <User id=952293073 name=FedEx Help username=FedExHelp>,\n",
       " 1469798448207593474: <User id=1469798448207593474 name=Suns ⋆*✩⑅◡̈⃝* username=Suns0_>,\n",
       " 1457065566083158021: <User id=1457065566083158021 name=swag username=swagallium12>,\n",
       " 1447167409983406087: <User id=1447167409983406087 name=eyyjey☄ username=oownii>,\n",
       " 4381569432: <User id=4381569432 name=Elmer Lee Taylor III username=elmer_is_gay>,\n",
       " 1510909668: <User id=1510909668 name=咪咪ʕ •ᴥ•ʔ♫ ( Slow ) username=ttv0400v>,\n",
       " 1473778739146375171: <User id=1473778739146375171 name=Daniel username=cryptozzeus>,\n",
       " 1445756970334502917: <User id=1445756970334502917 name=mommy helping username=Savanna77342499>,\n",
       " 1081626180019765251: <User id=1081626180019765251 name=ChicagoDoctorWhoMeetup username=WhoMeetup>,\n",
       " 1487018342238072833: <User id=1487018342238072833 name=Official Filthy Rich Whale Club username=Filthyrichwhale>,\n",
       " 1490156727160897539: <User id=1490156727160897539 name=Ereshkigal! ( EVENT. ) username=JewelsGoddesx>,\n",
       " 1498306591506198531: <User id=1498306591506198531 name=Jhaiem Uy username=JhaiemU>,\n",
       " 705164074934374400: <User id=705164074934374400 name=Want A Cookie? username=WantACookiePls>,\n",
       " 1427478772257755154: <User id=1427478772257755154 name=Aman Upadhyay ⚡ username=devjedi404>,\n",
       " 1495856959202881536: <User id=1495856959202881536 name=md khaysar ahmad username=MdKhaysar>,\n",
       " 1303198358023081985: <User id=1303198358023081985 name=Ezk username=Ezk11>,\n",
       " 1380473760327864322: <User id=1380473760327864322 name=Neele 🐰🔞 username=neele_nsfw>,\n",
       " 1445241182389346311: <User id=1445241182389346311 name=ApaanSii username=Userid0211>,\n",
       " 1133536398965760000: <User id=1133536398965760000 name=Obi_1shenobi username=1shenobi>,\n",
       " 1440265003764903943: <User id=1440265003764903943 name=Tomasito Milanio Tolentino username=tinytomas13>,\n",
       " 1074488918: <User id=1074488918 name=Galactok 👽 username=Galactiktaktok>,\n",
       " 1323457226682585088: <User id=1323457226682585088 name=Wraith - EOD LAUNCH! username=wraithblossoms>,\n",
       " 1501435701140803585: <User id=1501435701140803585 name=Jasonaldean username=Jasonal77062552>,\n",
       " 1045738711584067591: <User id=1045738711584067591 name=Animae_Sentiens username=AlieNRa5>,\n",
       " 1023980402451599361: <User id=1023980402451599361 name=picklelow username=niydfass>,\n",
       " 1552033117: <User id=1552033117 name=🦢 prdskei 🔗 GOT7FOREVER ∞ 🦢 username=KeiCM_93>,\n",
       " 1331598757335543808: <User id=1331598757335543808 name=ANNIE (๑ᵔ⤙ᵔ๑) username=NAYAAAMEE>,\n",
       " 1213558451978133504: <User id=1213558451978133504 name=MAHALIMA A'TIN CYPRUS 🇵🇭🇨🇾 username=cyprus_tin>,\n",
       " 1042682881582268416: <User id=1042682881582268416 name=Sardu username=sardunft>,\n",
       " 38181926: <User id=38181926 name=Arheese username=arheese>,\n",
       " 1472438330344230913: <User id=1472438330344230913 name=Cryptonikmehmet2 username=Cryptonikmehme>,\n",
       " 1204001247251951616: <User id=1204001247251951616 name=Taliepoo28 username=stylinson2028>,\n",
       " 187437530: <User id=187437530 name=feyber.eth username=feyberhoke>,\n",
       " 1021054659878932485: <User id=1021054659878932485 name=⬖̇ Mayden (Mandy | 만디) | ΩΧ + 🗝 username=tamasbottomchin>,\n",
       " 3587917575: <User id=3587917575 name=Natalia Linnik username=natalia_linn>,\n",
       " 1427011568429064192: <User id=1427011568429064192 name=Raven and Starfire 🖤 username=SlutRavenRP>,\n",
       " 1436560633529393154: <User id=1436560633529393154 name=ri 🍚 username=bardaghaul>,\n",
       " 1433906272924049408: <User id=1433906272924049408 name=Adex 🌙 username=0xDjiyu>,\n",
       " 1502364873434574857: <User id=1502364873434574857 name=mr xingst username=MXingst>,\n",
       " 1348002667994505222: <User id=1348002667994505222 name=LONELY WOLF 🐺💉💉💉 username=W0LF_L0NELY_>,\n",
       " 20233952: <User id=20233952 name=Gemma 💕💕 username=gemgemmzzzz1>,\n",
       " 1271924382437453824: <User id=1271924382437453824 name=Vickie - 🌻 username=Vickste83555351>,\n",
       " 1035167006667014146: <User id=1035167006667014146 name=Cointony username=cointonyy>,\n",
       " 1441248151613022211: <User id=1441248151613022211 name=Zidane Crypto username=ZidaneCrypto>,\n",
       " 722892099142615044: <User id=722892099142615044 name=Aishwarya | Support me on Ko-fi username=toondoon1010>,\n",
       " 1213993834566209537: <User id=1213993834566209537 name=PipayKikay username=kikayjanet1>}"
      ]
     },
     "execution_count": 71,
     "metadata": {},
     "output_type": "execute_result"
    }
   ],
   "source": [
    "query = \"hello\"\n",
    "tweets = client.search_recent_tweets(query=query, tweet_fields=['context_annotations', 'created_at'],\n",
    "                                     user_fields=['profile_image_url'], expansions='author_id', max_results=100)\n",
    "\n",
    "# Get users list from the includes object\n",
    "users = {u[\"id\"]: u for u in tweets.includes['users']}\n",
    "\n",
    "for tweet in tweets.data:\n",
    "    if users[tweet.author_id]:\n",
    "        user = users[tweet.author_id]\n",
    "#         print(user.profile_image_url)\n",
    "\n",
    "users"
   ]
  },
  {
   "cell_type": "code",
   "execution_count": 72,
   "id": "17fdf02d",
   "metadata": {},
   "outputs": [
    {
     "name": "stdout",
     "output_type": "stream",
     "text": [
      "1502443448057712649 I just added “Rob Wegner hosts Bad Boy Bill, Tranzit, Candyman, &amp; Ramsey Higgins to hold Music Business Workshop … https://t.co/edCePyf60b\n",
      "1502443447331958784 RT @ravkook7: Billboard🧡🧈💛🎧𓂃𓈒𓏸︎︎︎︎\n",
      "\n",
      "Nowplaying #BTS_Butter by #BTS  from\n",
      " @BTS_twt 's music playlist\n",
      "1502443447302725633 RT @AvrilLavigne: Holy fuck! #Complicated was released 20 years ago today. I could have never imagined the places this song would take me.…\n",
      "1502443446938013701 RT @yglobalmusic: 2022 YOUNGJAE FANMEETING IN BANGKOK\n",
      "'Nice To Meet Ars'\n",
      "\n",
      "พร้อมกดบัตรไปเจอยองแจกันรึยังงง? 💚\n",
      "Offline &amp; Online Ticketing : h…\n",
      "1502443446690271236 @CMT @DollyParton @edsheeran @EdSheeran_EU Everybody needs to make this happen. Allow Ed &amp; Dolly to hook up, Hang out for a While. And make some music\n",
      "1502443446530830336 RT @MetaSweepers: We feelin' so bullish! 👀 #SWEEPSWEEP\n",
      "\n",
      "MetaSweepers music video out right now! A remake of the hit song \"Whoopty\" by CJ.…\n",
      "1502443446002364416 RT @imlauv_45: Music gives me a peace of mind.\n",
      "1502443444673089536 @No_music_98 行ってらっしゃい！！！\n",
      "愛してるよ♡\n",
      "1502443444584828935 Jimi Hendrix - Voodoo Child live in Maui\n",
      "https://t.co/m9cvBf4lYE\n",
      "\n",
      "WOW.  Just think of how much live recordings and equipment have changed!  Amazing!!!\n",
      "1502443444320579584 RT @tori_k1989: Why did the farmer go into music after an unsuccessful harvest???\n",
      ".\n",
      ".\n",
      ".\n",
      ".\n",
      ".\n",
      "They had a lot of sick beets.\n",
      "#BadJokeFriday #b…\n",
      "1502443443616108544 RT @billboard: ATEEZ had a chance to reflect on their first arena shows during an after-hours tour of the Empire State Building, and Billbo…\n",
      "1502443443431546881 RT @OkaamwR: 遅くなった…505万回再生！！✨おめでとう！！✨\n",
      "本当、何回見てもハッピーになれるこのMVが大好きです✨\n",
      "\"ほら次は君の番だぜ\"の後のソウタラップの最初の皆んなのダンスが好き過ぎます🥰♡\n",
      "\n",
      "#BEFIRST_ByeGoodBye\n",
      "\n",
      "BE:FIRST /…\n",
      "1502443443318312960 RT @synthetiq_roid: 【碧玉魔境 〜Deep Green Forest〜】\n",
      "\n",
      "Youtube\n",
      "https://t.co/zjLskgNLMz\n",
      "\n",
      "ニコニコ動画\n",
      "https://t.co/82PXuo4FcI\n",
      "\n",
      "Lyric▷ZERo\n",
      "Music▷Kurippert…\n",
      "1502443442634297347 i love this mario kart music\n",
      "1502443442168754179 #योग #YOG #संगीत #MUSIC\n",
      "\n",
      "https://t.co/mDHZJvcC0L\n",
      "1502443441984135171 @vivicanosaok @A24COM Hola @vivicanosaok! Por favor sácale la música al programa de “violencia femenina “ porque te lo bloquearon en todo el mundo por derechos de Sony Music Entertainment “. Te miro desde Australia, y anoche logré verlo, hoy quise compartir y no se puede ver. Excelente trabajo!🌹👍\n",
      "1502443441292251139 RT @billboard: ATEEZ had a chance to reflect on their first arena shows during an after-hours tour of the Empire State Building, and Billbo…\n",
      "1502443441200021504 he loves music tooo 🥺\n",
      "1502443440847704068 https://t.co/o3NUpQAby9\n",
      "1502443440478597122 https://t.co/gdqWNG2WbZ\n",
      "1502443439790587905 RT @ipekita1: Every day every night \n",
      "I’ve been thinking back otg and gone. \n",
      "Thank you for sharing your music to us. So proud of you. \n",
      "\n",
      "SOLO…\n",
      "1502443439551819776 RT @MusicBearAwards: 🎁 HUGE #NFTGiveaway 🎁\n",
      "\n",
      "We 🐻🎵 are giving away 1 LEGENDARY NFT + 1 ETH + 50 WL Spots ☑️\n",
      "\n",
      "To win \n",
      "✅ Join Discord https://…\n",
      "1502443439471874050 RT @fooliewitit: Him and his fans fr never heard of Apple Music or Spotify\n",
      "1502443438159052803 RT @AlfredJenner: For lovers of classical music: The 2.movement of the quartetto No.2 in B flat major by Italian composer Maddalena Laura L…\n",
      "1502443438142373893 https://t.co/ZAj0p2YVdP 💚💚\n",
      "1502443437794029568 RT @sayan0918: はぁぁぉぉぁ💜\n",
      "ライビュ当日✨💖✨✨\n",
      "今日に限って土曜出勤😭\n",
      "ふわふわな雰囲気の職場なのにゴリゴリのライダース着てグクのバケハかぶって出勤🙈💕\n",
      "\n",
      "Nowplaying #BTS_Butter\n",
      "by #BTS  from @BTS_twt 's mu…\n",
      "1502443437785853955 RT @judithpierce88: ❤️❤️❤️❤ I need new music for our #playlist ❤️❤️❤️❤️\n",
      "1502443437626376192 New music from @iampynkdymund coming 4.5.22 Wanna hear it now? Go to https://t.co/w9usd86aJH and join her #pynkposse https://t.co/p1Ijot4pwM\n",
      "1502443437005881347 明日が待ち切れず朝からこれを聴いてる。\n",
      "もしかして、このファンファーレオルケスト版の初演に乗られた方もRESOUNDのメンバーにいらっしゃるのかな？\n",
      "\n",
      "https://t.co/k8c256SzWG\n",
      "\n",
      "フィリップ・スパーク／宇宙の音楽　Philip Sparke/Music of the Spheres https://t.co/46FT3aXLSp @YouTubeより\n",
      "1502443436913307648 https://t.co/xqXhKAjj2K\n",
      "1502443436716220421 RT @PAnittaNotice: 📶ITunes Latin Suíça 🇨🇭 \n",
      "\n",
      "#8. Pa'Lante by @AlexSensation , @LuisFonsi &amp; @Anitta (NEW)\n",
      "\n",
      "https://t.co/wdKyaqdAmD\n",
      "1502443436707913732 RT @jinkiism: not 2 be annoying but its horribly unprofessional for sm to say onew cb would be during september and then delay it 6 months…\n",
      "1502443436225429505 Rivers Cuomo - Meet Up With Our Maker https://t.co/6lbeOjGViG via @YouTube \n",
      "\n",
      "that's how I eventually got the gig spinning music. She liked me so much, I got to stay a while longer.\n",
      "1502443435189579779 RT @ReallyAmerican1: JUST IN: Pink Floyd announced that it is pulling its music from digital music providers in Russia and Belarus, in soli…\n",
      "1502443434287800326 RT @concert_next: #Music #MusicNews #Global #KPop How a 2-Year Delay Changed ATEEZ’s First U.S. Arena Tour &amp; Inspired Their Next Steps http…\n",
      "1502443433654423553 #revolutionxradioinc Bored To Tears by Black Label Society Sonic Brew https://t.co/xEWiexe2zy\n",
      "1502443433440514060 RT @moliymusic: If you’re shooting a music video for 8 hours yeah a glass or 3 of moscato will get you nice\n",
      "1502443433386192896 RT @n_outer_c: 昨日3/11(金)放送\n",
      "『MUSIC BLOOD』\n",
      "ゲスト：Novel Core\n",
      "\n",
      "Tverにて見逃し配信中です\n",
      "[ 3/18(金)22:59まで ]\n",
      "\n",
      "#TVer\n",
      "#MUSICBLOOD\n",
      "#NovelCore\n",
      "https://t.co/ANEak…\n",
      "1502443432857387008 https://t.co/dQHdTLbPSQ\n",
      "1502443432165482497 IM IN FUCKING LOVE WITH KADEN MACKAY HIS MUSIC IS SO FUCKING GOOD\n",
      "1502443431846727684 my favorite part of jeanyuhs was when kid cudi said “i like making music about really serious topics” like “suicide” and “ghosts”\n",
      "1502443430722613251 my favorite thing was when ppl thought noise music was a drag and then nct dropped bring the noize\n",
      "1502443430684905472 Tryna join the ibadan music community on discord and I’m only realising that I don’t know my way around discord.\n",
      "1502443430651199494 RT @indozonemedia: BamBam dikabarkan telah berhasil berada di puncak chart iTunes seluruh dengan OST solo Korea pertamanya sejak debutnya.…\n",
      "1502443429971873799 RT @JanroCarvajal: En #EstacionJazzyBlues para hoy 11 de marzo: Machito &amp; His Afro-Cubans, Shocking Blue y Elvis Presley\n",
      "7pm\n",
      "https://t.co/a…\n",
      "1502443429908779015 RT @antoniohrly: Listen to it! Indulge in it! This spectacular music! Only today, the great violinist Antonio will perform for a special oc…\n",
      "1502443429900476420 Favorite Music: The other promise\n",
      "Favorite World: hollow bastion (kh2)\n",
      "Favorite story: kh2\n",
      "Favorite keyblade: oblivion\n",
      "Favorite character: sora &amp; ventus \n",
      "Favorite party member: riku\n",
      "Favorite summon: n/a\n",
      "Favorite game: kh2 https://t.co/1LMCJBLpab\n",
      "1502443429883568133 @vusik_music 録音したいなぁ… 📱🤔できるのかなぁ…\n",
      "1502443429653098496 RT @_prxncesss: -Being from the Caribbean is such a flex because listen our culture is UNMATCHEDDDDDD. From the music, to the dancing and t…\n",
      "1502443428369649664 https://t.co/Eow5lw9HaM\n",
      "1502443428050661376 Check out Beyoncé On Beat's video! #TikTok https://t.co/7EsjJbU9YW #FridayFeeling #vibes #music #bey\n",
      "1502443427199299584 RT @fucktastrophe: Guy that will tell you in his dying breath that back in his day he used to listen to music on CDs just to make a CDs nut…\n",
      "1502443426931179521 聡くんシェア楽曲。この楽曲知らなかった…好みすぎてリピート🎧\n",
      "以前から歌声に少しMJみを感じてて、これを機に色々調べてたらMJの楽曲もカバーされてた、好き笑 https://t.co/PKYlm6sy97\n",
      "1502443426570293251 Favorite Music: X\n",
      "Favorite World: X\n",
      "Favorite Story: X\n",
      "Favorite Aethestic: X\n",
      "Favorite Character: Auron (ffx)\n",
      "Favorite Job Class: Red Mage\n",
      "Favourite Command: Enemy Skill (ffvii)\n",
      "Favourite Summon: Anima (ffx), Hades (ffvii)\n",
      "Favorite Game: X https://t.co/e2qPEOefB9\n",
      "1502443424905146378 RT @Nlechoppa1: My Spiritual Music Will Be On My Next Album, Had To Take A Minute To Perfect It Thanks For Y’all’s Patience. We need Positi…\n",
      "1502443423747481603 quackity this music makes me want to cry\n",
      "1502443423042883584 https://t.co/MlRIef6wX6\n",
      "1502443422879264773 @SHENYENG we need a music video for #Bouncy with @OffsetYRN like..... https://t.co/uQ7nQDGhV9\n",
      "1502443421717262347 RT @MusicThaman: My fav 💕 Jus Celebrated this space with my music lovely conception from @director_radhaa #BlockBusterRadheShyam 💕🖤🦋\n",
      "1502443421709053955 RT @SaycheeseDGTL: 7 years ago today Wiz Khalifa released “See You Again” he became the first rapper to get a BILLION YouTube views on a mu…\n",
      "1502443421667106816 @alexandriabaine Brand New YouTube video is up!! It combines 2 of my favorite things Fun facts &amp; Music. So check out it's 10 Fun Classic Rock Facts. Drop a comment on the Video &amp; let me know if you knew any of them. Thanks for all of your support. \n",
      "https://t.co/wIEWe1Zs2p\n",
      "1502443421516107777 RT @Twatterlive: Do you want to learn how to promote your music in 2022? \n",
      "\n",
      "In my new video I give you some inside secrets on how to build a…\n",
      "1502443421155405829 OhioU band playing @STYXtheBand music pre game? THEY GOT ANOTHER FAN!!! #MACTION\n",
      "1502443420681322496 @HMKilla Mine is going to look a tad weird next to what I'm seeing most posted but:\n",
      "Favorite Music: Twilight Princess\n",
      "Favorite World: Zelda II\n",
      "Favorite Story: OoT\n",
      "Favorite Art Style: BotW\n",
      "Favorite Link: Zelda II \n",
      "Favorite Zelda: OoT\n",
      "Favorite Game: The Legend of Zelda (original)\n",
      "1502443420131880961 (: https://t.co/Tnyq87qDPK\n",
      "1502443419654062081 RT @LINEMUSIC_JP: ✡️⠀⠀✡️⠀⠀✡️⠀⠀✡️\n",
      "⠀⠀⠀⠀ #JO1\n",
      "✡️⠀⠀✡️⠀⠀✡️⠀⠀✡️\n",
      "\n",
      "ついに明日！✨\n",
      "\n",
      "〖 デビュー2周年記念 JO1スペシャル生配信\n",
      "@ LINE MUSIC 〗が配信されるよ🪶🎬\n",
      "\n",
      "⏰3月12日(土)\n",
      "・ティザー映像👉12時~…\n",
      "1502443419205087232 RT @LatinAMAs: ¡Es su momento #CNCOwners! Vota por @cncomusic en su nominación como 'Album Favorito-Pop' dentro de los #LatinAMAs\n",
      "\n",
      "Vota aqu…\n",
      "1502443418844372996 https://t.co/BrbKQ4Odji\n",
      "1502443416700993536 Now Playing Tribett, Tye &amp; G.A. - Mighty Long Way 24/7 Gospel Music, Preaching &amp; Teaching\n",
      "1502443416428245000 RT @besty_rt716615: 過去一好きなリュウヘイパート①\n",
      "15歳って？何歳？\n",
      "からのリョウキの流れ好き\n",
      "Awesome to listen to #BEFIRST’s #Gifted and new song #ByeGoodBye! #BEFIRST_ByeGo…\n",
      "1502443414888976385 RT @mrchildren_jp: 📺 Mr.Children、 テレビ朝日系「ミュージックステーション 春のレジェンド曲3時間SP」出演決定❗\n",
      "4/1(金)18:50〜🕖\n",
      "▷ https://t.co/KaVi5pQfp7\n",
      "\n",
      "#MrChildren\n",
      "#MrChildren3…\n",
      "1502443414503280644 RT @OnlyLookAtMino: [‼] MINO trending on Twitter under the Music category following the release of \"I LIVE ALONE\" teaser. \n",
      "\n",
      "🌟Please continu…\n",
      "1502443414490599424 We are celebrating Music In Our Schools Month @TrantwoodES ! All month Ss will share why music is important to them.  Here are some highlights from our 5th graders! @HasherLori @Lewis2Karen #thenestisthebest https://t.co/MLSrmlO4cF\n",
      "1502443414193057792 RT @KingandPrince33: 【 3/12(土)のKing &amp; Prince 】\n",
      "\n",
      "《 CM 》\n",
      "『 #LOVEぷっちょ 』TV放送開始 👑King &amp; Prince\n",
      "\n",
      "《 TV 》\n",
      "21:00-『 SHOWチャンネル 』🖤永瀬廉\n",
      "▶︎ Premium Music…\n",
      "1502443413798592512 RT @h0tcapri: tengo buen music taste, que más quieres?\n",
      "1502443413790236672 RT @LilKimMedia: In her latest interview with Joe Budden Nicki Minaj praises Lil’ Kim’s influence and states that she and Kim should’ve bee…\n",
      "1502443413630816257 Complete Works Collection\n",
      "“BINTANG” Op.27\n",
      "Original Music for #NFTs\n",
      "\n",
      "💟 66 NFTs Music Collectibles\n",
      " Limited Editions 1:1/1:10 Series\n",
      "\n",
      "“Collect or use in your projects\"\n",
      "#NFTMusic #NFTCommunity #nftcollectors\n",
      "\n",
      "Check out: \n",
      "https://t.co/zMF8FCAEGe via @opensea\n",
      "1502443413219659779 RT @NME: Solar's first-ever EP 'FACE' drops next week https://t.co/b2azz6Gy7r\n",
      "1502443412947046408 the Mario music feels like it’s mocking me\n",
      "1502443412276097024 really my shit lol https://t.co/DVUvxetGxT\n",
      "1502443411676225537 RT @ayosogunro: Can't get it out of my head that Europe cried about a 'migrant crisis' in 2015 against 1.4m refugees fleeing war in Syria a…\n",
      "1502443411449778181 Reasons why up and coming artist quit music https://t.co/PmlsGW3hQt via @YouTube\n",
      "1502443410724032513 RT @skzstartline: [RECLUTAMIENTO - GRUPOS DE STREAM]\n",
      "\n",
      "📣STAYs dedicadas, pendientes y con tiempo para hacer stream en la época de #ODDINARY…\n",
      "1502443409667235840 RT @SquareEnix: The official YouTube channel \"SQUARE ENIX MUSIC Channel\" has launched!\n",
      "\n",
      "The channel features game music from the SQUARE ENI…\n",
      "1502443409633599494 RT @ayosogunro: Can't get it out of my head that Europe cried about a 'migrant crisis' in 2015 against 1.4m refugees fleeing war in Syria a…\n",
      "1502443408572686339 RT @_66sixtysix: ตารางงาน TREASURE วันนี้ (12/3)\n",
      "\n",
      "💎 TREASURE's Fan Art Museum: Inaugural Exhibition 💎\n",
      "⏰ 9:00 ไทย\n",
      "🔗 https://t.co/ItHJ8U5bBh…\n",
      "1502443408027447298 RT @TREASUREIDN: #TREASURE Schedule’s update : (220312) \n",
      "\n",
      "ㅡ Premiere hello82 \n",
      "⏰ 11AM KST \n",
      "Link stream : https://t.co/FIeoNfHTrX\n",
      "\n",
      "ㅡ MBC Show…\n",
      "1502443407771197442 RT @MusicBearAwards: 🎁 HUGE #NFTGiveaway 🎁\n",
      "\n",
      "We 🐻🎵 are giving away 1 LEGENDARY NFT + 1 ETH + 50 WL Spots ☑️\n",
      "\n",
      "To win \n",
      "✅ Join Discord https://…\n",
      "1502443406219485186 RT @KeniaOsSitio: “Joder” de @KeniaOs &amp; @SnowThaProduct, siendo promocionada en TikTok, por Apple Music. https://t.co/gyxfDI2YdD\n",
      "1502443406018039811 RT @MusicBearAwards: 🎁 HUGE #NFTGiveaway 🎁\n",
      "\n",
      "We 🐻🎵 are giving away 1 LEGENDARY NFT + 1 ETH + 50 WL Spots ☑️\n",
      "\n",
      "To win \n",
      "✅ Join Discord https://…\n",
      "1502443405858672641 RT @rsyonge: your love and passion towards music always impressed me and im glad that i stan the right person. you released the best album…\n",
      "1502443405661638661 Gregory Porter - If Love Is Overrated (Official Music Video) https://t.co/wOhY9inOZ0 via @YouTube\n",
      "1502443404722069509 RT @ayosogunro: Can't get it out of my head that Europe cried about a 'migrant crisis' in 2015 against 1.4m refugees fleeing war in Syria a…\n",
      "1502443404583747584 RT @KidRock: The official music video for Kid Rock’s “We The People” is out now! Thanks to all his fans for submitting videos and helping m…\n",
      "1502443404315217923 RT @owlfirsties: My class is obsessed with the “would you rather” brain breaks on YouTube. One of my firsties made her own version (to incl…\n",
      "1502443404201967620 RT @staticbluebat: I wish I could remember who it was that said this but I remember seeing someone say that Patrick Bateman’s pop music mon…\n",
      "1502443403597864965 2ndSingle🍀\n",
      "Bye-Good-Bye -Music Video-\n",
      "▶️https://t.co/86QWrhaGaN \n",
      "\n",
      "#BEFIRST_ByeGoodBye ⚓️\n",
      "BE:FIRST 🌼 Bye-Good-Bye \n",
      "Gifted. ❤️ Brave Generation\n",
      "#BEFIRST's #ByeGoodBye, #Gifted &amp; #BraveGenerationare so special to us!!\n",
      "@BEFIRSTofficial https://t.co/FMUYR5v0r8\n",
      "1502443403337940992 @Kitttysuit Now I want to know what they consider to be good music\n",
      "1502443402662612996 Happy 1st Anniversary to Moodswings in This Order and R albums which we cherish a lot 🖤💜 Here's to more of high quality music from our favorite musician, #DPRIAN and #ROSÉ✨\n",
      "#MITO1stAnniversary #OneYearWithR https://t.co/tbnoTQKvQ8\n",
      "1502443402314625024 @speciaIghouI Feel that... if need anything am away from that chaos? Music and bliss out kinda night rn\n"
     ]
    }
   ],
   "source": [
    "for t in client.search_recent_tweets(\"music\", max_results = 100)[0]:\n",
    "    print(t.id, t.text)"
   ]
  },
  {
   "cell_type": "code",
   "execution_count": 68,
   "id": "4aea981b",
   "metadata": {},
   "outputs": [
    {
     "data": {
      "text/plain": [
       "<Tweet id=1502362689615679500 text='@dilfderekowner hello'>"
      ]
     },
     "execution_count": 68,
     "metadata": {},
     "output_type": "execute_result"
    }
   ],
   "source": [
    "client.get_tweet(id=\"1502362689615679500\")[0]"
   ]
  },
  {
   "cell_type": "code",
   "execution_count": 46,
   "id": "7e5e045b",
   "metadata": {},
   "outputs": [
    {
     "data": {
      "text/plain": [
       "{'newest_id': '1502349840482660358',\n",
       " 'oldest_id': '1502349835629957124',\n",
       " 'result_count': 10,\n",
       " 'next_token': 'b26v89c19zqg8o3fpyqm33vuwex741dwvm3woikl6r0cd'}"
      ]
     },
     "execution_count": 46,
     "metadata": {},
     "output_type": "execute_result"
    }
   ],
   "source": [
    "client.search_recent_tweets(\"hello\")[3]"
   ]
  },
  {
   "cell_type": "code",
   "execution_count": 30,
   "id": "8c4455d1",
   "metadata": {},
   "outputs": [
    {
     "ename": "TypeError",
     "evalue": "Consumer key must be string or bytes, not NoneType",
     "output_type": "error",
     "traceback": [
      "\u001b[1;31m---------------------------------------------------------------------------\u001b[0m",
      "\u001b[1;31mTypeError\u001b[0m                                 Traceback (most recent call last)",
      "\u001b[1;32mC:\\Users\\JUNQIC~1\\AppData\\Local\\Temp/ipykernel_8548/1377323115.py\u001b[0m in \u001b[0;36m<module>\u001b[1;34m\u001b[0m\n\u001b[1;32m----> 1\u001b[1;33m \u001b[0mclient\u001b[0m\u001b[1;33m.\u001b[0m\u001b[0mcreate_tweet\u001b[0m\u001b[1;33m(\u001b[0m\u001b[0mtext\u001b[0m\u001b[1;33m=\u001b[0m\u001b[1;34m\"Test for Twitter API\"\u001b[0m\u001b[1;33m)\u001b[0m\u001b[1;33m\u001b[0m\u001b[1;33m\u001b[0m\u001b[0m\n\u001b[0m",
      "\u001b[1;32mD:\\Software\\Anaconda3\\lib\\site-packages\\tweepy\\client.py\u001b[0m in \u001b[0;36mcreate_tweet\u001b[1;34m(self, direct_message_deep_link, for_super_followers_only, place_id, media_ids, media_tagged_user_ids, poll_duration_minutes, poll_options, quote_tweet_id, exclude_reply_user_ids, in_reply_to_tweet_id, reply_settings, text, user_auth)\u001b[0m\n\u001b[0;32m    592\u001b[0m             \u001b[0mjson\u001b[0m\u001b[1;33m[\u001b[0m\u001b[1;34m\"text\"\u001b[0m\u001b[1;33m]\u001b[0m \u001b[1;33m=\u001b[0m \u001b[0mtext\u001b[0m\u001b[1;33m\u001b[0m\u001b[1;33m\u001b[0m\u001b[0m\n\u001b[0;32m    593\u001b[0m \u001b[1;33m\u001b[0m\u001b[0m\n\u001b[1;32m--> 594\u001b[1;33m         return self._make_request(\n\u001b[0m\u001b[0;32m    595\u001b[0m             \u001b[1;34m\"POST\"\u001b[0m\u001b[1;33m,\u001b[0m \u001b[1;34mf\"/2/tweets\"\u001b[0m\u001b[1;33m,\u001b[0m \u001b[0mjson\u001b[0m\u001b[1;33m=\u001b[0m\u001b[0mjson\u001b[0m\u001b[1;33m,\u001b[0m \u001b[0muser_auth\u001b[0m\u001b[1;33m=\u001b[0m\u001b[0muser_auth\u001b[0m\u001b[1;33m\u001b[0m\u001b[1;33m\u001b[0m\u001b[0m\n\u001b[0;32m    596\u001b[0m         )\n",
      "\u001b[1;32mD:\\Software\\Anaconda3\\lib\\site-packages\\tweepy\\client.py\u001b[0m in \u001b[0;36m_make_request\u001b[1;34m(self, method, route, params, endpoint_parameters, json, data_type, user_auth)\u001b[0m\n\u001b[0;32m    116\u001b[0m         \u001b[0mrequest_params\u001b[0m \u001b[1;33m=\u001b[0m \u001b[0mself\u001b[0m\u001b[1;33m.\u001b[0m\u001b[0m_process_params\u001b[0m\u001b[1;33m(\u001b[0m\u001b[0mparams\u001b[0m\u001b[1;33m,\u001b[0m \u001b[0mendpoint_parameters\u001b[0m\u001b[1;33m)\u001b[0m\u001b[1;33m\u001b[0m\u001b[1;33m\u001b[0m\u001b[0m\n\u001b[0;32m    117\u001b[0m \u001b[1;33m\u001b[0m\u001b[0m\n\u001b[1;32m--> 118\u001b[1;33m         response = self.request(method, route, params=request_params,\n\u001b[0m\u001b[0;32m    119\u001b[0m                                 json=json, user_auth=user_auth)\n\u001b[0;32m    120\u001b[0m \u001b[1;33m\u001b[0m\u001b[0m\n",
      "\u001b[1;32mD:\\Software\\Anaconda3\\lib\\site-packages\\tweepy\\client.py\u001b[0m in \u001b[0;36mrequest\u001b[1;34m(self, method, route, params, json, user_auth)\u001b[0m\n\u001b[0;32m     59\u001b[0m         \u001b[0mauth\u001b[0m \u001b[1;33m=\u001b[0m \u001b[1;32mNone\u001b[0m\u001b[1;33m\u001b[0m\u001b[1;33m\u001b[0m\u001b[0m\n\u001b[0;32m     60\u001b[0m         \u001b[1;32mif\u001b[0m \u001b[0muser_auth\u001b[0m\u001b[1;33m:\u001b[0m\u001b[1;33m\u001b[0m\u001b[1;33m\u001b[0m\u001b[0m\n\u001b[1;32m---> 61\u001b[1;33m             auth = OAuth1UserHandler(\n\u001b[0m\u001b[0;32m     62\u001b[0m                 \u001b[0mself\u001b[0m\u001b[1;33m.\u001b[0m\u001b[0mconsumer_key\u001b[0m\u001b[1;33m,\u001b[0m \u001b[0mself\u001b[0m\u001b[1;33m.\u001b[0m\u001b[0mconsumer_secret\u001b[0m\u001b[1;33m,\u001b[0m\u001b[1;33m\u001b[0m\u001b[1;33m\u001b[0m\u001b[0m\n\u001b[0;32m     63\u001b[0m                 \u001b[0mself\u001b[0m\u001b[1;33m.\u001b[0m\u001b[0maccess_token\u001b[0m\u001b[1;33m,\u001b[0m \u001b[0mself\u001b[0m\u001b[1;33m.\u001b[0m\u001b[0maccess_token_secret\u001b[0m\u001b[1;33m\u001b[0m\u001b[1;33m\u001b[0m\u001b[0m\n",
      "\u001b[1;32mD:\\Software\\Anaconda3\\lib\\site-packages\\tweepy\\auth.py\u001b[0m in \u001b[0;36m__init__\u001b[1;34m(self, consumer_key, consumer_secret, access_token, access_token_secret, callback)\u001b[0m\n\u001b[0;32m     29\u001b[0m                  access_token_secret=None, callback=None):\n\u001b[0;32m     30\u001b[0m         \u001b[1;32mif\u001b[0m \u001b[1;32mnot\u001b[0m \u001b[0misinstance\u001b[0m\u001b[1;33m(\u001b[0m\u001b[0mconsumer_key\u001b[0m\u001b[1;33m,\u001b[0m \u001b[1;33m(\u001b[0m\u001b[0mstr\u001b[0m\u001b[1;33m,\u001b[0m \u001b[0mbytes\u001b[0m\u001b[1;33m)\u001b[0m\u001b[1;33m)\u001b[0m\u001b[1;33m:\u001b[0m\u001b[1;33m\u001b[0m\u001b[1;33m\u001b[0m\u001b[0m\n\u001b[1;32m---> 31\u001b[1;33m             raise TypeError(\"Consumer key must be string or bytes, not \"\n\u001b[0m\u001b[0;32m     32\u001b[0m                             + type(consumer_key).__name__)\n\u001b[0;32m     33\u001b[0m         \u001b[1;32mif\u001b[0m \u001b[1;32mnot\u001b[0m \u001b[0misinstance\u001b[0m\u001b[1;33m(\u001b[0m\u001b[0mconsumer_secret\u001b[0m\u001b[1;33m,\u001b[0m \u001b[1;33m(\u001b[0m\u001b[0mstr\u001b[0m\u001b[1;33m,\u001b[0m \u001b[0mbytes\u001b[0m\u001b[1;33m)\u001b[0m\u001b[1;33m)\u001b[0m\u001b[1;33m:\u001b[0m\u001b[1;33m\u001b[0m\u001b[1;33m\u001b[0m\u001b[0m\n",
      "\u001b[1;31mTypeError\u001b[0m: Consumer key must be string or bytes, not NoneType"
     ]
    }
   ],
   "source": [
    "client.create_tweet(text=\"Test for Twitter API\")"
   ]
  },
  {
   "cell_type": "markdown",
   "id": "67a4788c",
   "metadata": {},
   "source": [
    "# API"
   ]
  },
  {
   "cell_type": "code",
   "execution_count": 31,
   "id": "9761ad95",
   "metadata": {},
   "outputs": [
    {
     "ename": "Forbidden",
     "evalue": "403 Forbidden\n453 - You currently have Essential access which includes access to Twitter API v2 endpoints only. If you need access to this endpoint, you’ll need to apply for Elevated access via the Developer Portal. You can learn more here: https://developer.twitter.com/en/docs/twitter-api/getting-started/about-twitter-api#v2-access-leve",
     "output_type": "error",
     "traceback": [
      "\u001b[1;31m---------------------------------------------------------------------------\u001b[0m",
      "\u001b[1;31mForbidden\u001b[0m                                 Traceback (most recent call last)",
      "\u001b[1;32mC:\\Users\\JUNQIC~1\\AppData\\Local\\Temp/ipykernel_8548/2368198487.py\u001b[0m in \u001b[0;36m<module>\u001b[1;34m\u001b[0m\n\u001b[0;32m      7\u001b[0m \u001b[1;33m\u001b[0m\u001b[0m\n\u001b[0;32m      8\u001b[0m \u001b[1;31m# Create a tweet\u001b[0m\u001b[1;33m\u001b[0m\u001b[1;33m\u001b[0m\u001b[0m\n\u001b[1;32m----> 9\u001b[1;33m \u001b[0mapi\u001b[0m\u001b[1;33m.\u001b[0m\u001b[0mupdate_status\u001b[0m\u001b[1;33m(\u001b[0m\u001b[1;34m\"Hello Tweepy\"\u001b[0m\u001b[1;33m)\u001b[0m\u001b[1;33m\u001b[0m\u001b[1;33m\u001b[0m\u001b[0m\n\u001b[0m",
      "\u001b[1;32mD:\\Software\\Anaconda3\\lib\\site-packages\\tweepy\\api.py\u001b[0m in \u001b[0;36mwrapper\u001b[1;34m(*args, **kwargs)\u001b[0m\n\u001b[0;32m     44\u001b[0m             \u001b[0mkwargs\u001b[0m\u001b[1;33m[\u001b[0m\u001b[1;34m'payload_list'\u001b[0m\u001b[1;33m]\u001b[0m \u001b[1;33m=\u001b[0m \u001b[0mpayload_list\u001b[0m\u001b[1;33m\u001b[0m\u001b[1;33m\u001b[0m\u001b[0m\n\u001b[0;32m     45\u001b[0m             \u001b[0mkwargs\u001b[0m\u001b[1;33m[\u001b[0m\u001b[1;34m'payload_type'\u001b[0m\u001b[1;33m]\u001b[0m \u001b[1;33m=\u001b[0m \u001b[0mpayload_type\u001b[0m\u001b[1;33m\u001b[0m\u001b[1;33m\u001b[0m\u001b[0m\n\u001b[1;32m---> 46\u001b[1;33m             \u001b[1;32mreturn\u001b[0m \u001b[0mmethod\u001b[0m\u001b[1;33m(\u001b[0m\u001b[1;33m*\u001b[0m\u001b[0margs\u001b[0m\u001b[1;33m,\u001b[0m \u001b[1;33m**\u001b[0m\u001b[0mkwargs\u001b[0m\u001b[1;33m)\u001b[0m\u001b[1;33m\u001b[0m\u001b[1;33m\u001b[0m\u001b[0m\n\u001b[0m\u001b[0;32m     47\u001b[0m         \u001b[0mwrapper\u001b[0m\u001b[1;33m.\u001b[0m\u001b[0mpayload_list\u001b[0m \u001b[1;33m=\u001b[0m \u001b[0mpayload_list\u001b[0m\u001b[1;33m\u001b[0m\u001b[1;33m\u001b[0m\u001b[0m\n\u001b[0;32m     48\u001b[0m         \u001b[0mwrapper\u001b[0m\u001b[1;33m.\u001b[0m\u001b[0mpayload_type\u001b[0m \u001b[1;33m=\u001b[0m \u001b[0mpayload_type\u001b[0m\u001b[1;33m\u001b[0m\u001b[1;33m\u001b[0m\u001b[0m\n",
      "\u001b[1;32mD:\\Software\\Anaconda3\\lib\\site-packages\\tweepy\\api.py\u001b[0m in \u001b[0;36mupdate_status\u001b[1;34m(self, status, **kwargs)\u001b[0m\n\u001b[0;32m   1119\u001b[0m             \u001b[0mkwargs\u001b[0m\u001b[1;33m[\u001b[0m\u001b[1;34m'media_ids'\u001b[0m\u001b[1;33m]\u001b[0m \u001b[1;33m=\u001b[0m \u001b[0mlist_to_csv\u001b[0m\u001b[1;33m(\u001b[0m\u001b[0mkwargs\u001b[0m\u001b[1;33m[\u001b[0m\u001b[1;34m'media_ids'\u001b[0m\u001b[1;33m]\u001b[0m\u001b[1;33m)\u001b[0m\u001b[1;33m\u001b[0m\u001b[1;33m\u001b[0m\u001b[0m\n\u001b[0;32m   1120\u001b[0m \u001b[1;33m\u001b[0m\u001b[0m\n\u001b[1;32m-> 1121\u001b[1;33m         return self.request(\n\u001b[0m\u001b[0;32m   1122\u001b[0m             'POST', 'statuses/update', endpoint_parameters=(\n\u001b[0;32m   1123\u001b[0m                 \u001b[1;34m'status'\u001b[0m\u001b[1;33m,\u001b[0m \u001b[1;34m'in_reply_to_status_id'\u001b[0m\u001b[1;33m,\u001b[0m\u001b[1;33m\u001b[0m\u001b[1;33m\u001b[0m\u001b[0m\n",
      "\u001b[1;32mD:\\Software\\Anaconda3\\lib\\site-packages\\tweepy\\api.py\u001b[0m in \u001b[0;36mrequest\u001b[1;34m(self, method, endpoint, endpoint_parameters, params, headers, json_payload, parser, payload_list, payload_type, post_data, files, require_auth, return_cursors, upload_api, use_cache, **kwargs)\u001b[0m\n\u001b[0;32m    257\u001b[0m                 \u001b[1;32mraise\u001b[0m \u001b[0mUnauthorized\u001b[0m\u001b[1;33m(\u001b[0m\u001b[0mresp\u001b[0m\u001b[1;33m)\u001b[0m\u001b[1;33m\u001b[0m\u001b[1;33m\u001b[0m\u001b[0m\n\u001b[0;32m    258\u001b[0m             \u001b[1;32mif\u001b[0m \u001b[0mresp\u001b[0m\u001b[1;33m.\u001b[0m\u001b[0mstatus_code\u001b[0m \u001b[1;33m==\u001b[0m \u001b[1;36m403\u001b[0m\u001b[1;33m:\u001b[0m\u001b[1;33m\u001b[0m\u001b[1;33m\u001b[0m\u001b[0m\n\u001b[1;32m--> 259\u001b[1;33m                 \u001b[1;32mraise\u001b[0m \u001b[0mForbidden\u001b[0m\u001b[1;33m(\u001b[0m\u001b[0mresp\u001b[0m\u001b[1;33m)\u001b[0m\u001b[1;33m\u001b[0m\u001b[1;33m\u001b[0m\u001b[0m\n\u001b[0m\u001b[0;32m    260\u001b[0m             \u001b[1;32mif\u001b[0m \u001b[0mresp\u001b[0m\u001b[1;33m.\u001b[0m\u001b[0mstatus_code\u001b[0m \u001b[1;33m==\u001b[0m \u001b[1;36m404\u001b[0m\u001b[1;33m:\u001b[0m\u001b[1;33m\u001b[0m\u001b[1;33m\u001b[0m\u001b[0m\n\u001b[0;32m    261\u001b[0m                 \u001b[1;32mraise\u001b[0m \u001b[0mNotFound\u001b[0m\u001b[1;33m(\u001b[0m\u001b[0mresp\u001b[0m\u001b[1;33m)\u001b[0m\u001b[1;33m\u001b[0m\u001b[1;33m\u001b[0m\u001b[0m\n",
      "\u001b[1;31mForbidden\u001b[0m: 403 Forbidden\n453 - You currently have Essential access which includes access to Twitter API v2 endpoints only. If you need access to this endpoint, you’ll need to apply for Elevated access via the Developer Portal. You can learn more here: https://developer.twitter.com/en/docs/twitter-api/getting-started/about-twitter-api#v2-access-leve"
     ]
    }
   ],
   "source": [
    "# Authenticate to Twitter\n",
    "auth = tweepy.OAuthHandler(consumer_key, consumer_secret)\n",
    "auth.set_access_token(access_token, access_token_secret)\n",
    "\n",
    "# Create API object\n",
    "api = tweepy.API(auth)\n",
    "\n",
    "# Create a tweet\n",
    "api.update_status(\"Hello Tweepy\")"
   ]
  },
  {
   "cell_type": "code",
   "execution_count": 14,
   "id": "949540b5",
   "metadata": {},
   "outputs": [
    {
     "ename": "Forbidden",
     "evalue": "403 Forbidden\n453 - You currently have Essential access which includes access to Twitter API v2 endpoints only. If you need access to this endpoint, you’ll need to apply for Elevated access via the Developer Portal. You can learn more here: https://developer.twitter.com/en/docs/twitter-api/getting-started/about-twitter-api#v2-access-leve",
     "output_type": "error",
     "traceback": [
      "\u001b[1;31m---------------------------------------------------------------------------\u001b[0m",
      "\u001b[1;31mForbidden\u001b[0m                                 Traceback (most recent call last)",
      "\u001b[1;32mC:\\Users\\JUNQIC~1\\AppData\\Local\\Temp/ipykernel_13064/3510951457.py\u001b[0m in \u001b[0;36m<module>\u001b[1;34m\u001b[0m\n\u001b[0;32m     12\u001b[0m \u001b[0mapi\u001b[0m \u001b[1;33m=\u001b[0m \u001b[0mtweepy\u001b[0m\u001b[1;33m.\u001b[0m\u001b[0mAPI\u001b[0m\u001b[1;33m(\u001b[0m\u001b[0mauth\u001b[0m\u001b[1;33m)\u001b[0m\u001b[1;33m\u001b[0m\u001b[1;33m\u001b[0m\u001b[0m\n\u001b[0;32m     13\u001b[0m \u001b[1;33m\u001b[0m\u001b[0m\n\u001b[1;32m---> 14\u001b[1;33m \u001b[0mpublic_tweets\u001b[0m \u001b[1;33m=\u001b[0m \u001b[0mapi\u001b[0m\u001b[1;33m.\u001b[0m\u001b[0mhome_timeline\u001b[0m\u001b[1;33m(\u001b[0m\u001b[1;33m)\u001b[0m\u001b[1;33m\u001b[0m\u001b[1;33m\u001b[0m\u001b[0m\n\u001b[0m\u001b[0;32m     15\u001b[0m \u001b[1;32mfor\u001b[0m \u001b[0mtweet\u001b[0m \u001b[1;32min\u001b[0m \u001b[0mpublic_tweets\u001b[0m\u001b[1;33m:\u001b[0m\u001b[1;33m\u001b[0m\u001b[1;33m\u001b[0m\u001b[0m\n\u001b[0;32m     16\u001b[0m     \u001b[0mprint\u001b[0m\u001b[1;33m(\u001b[0m\u001b[0mtweet\u001b[0m\u001b[1;33m.\u001b[0m\u001b[0mtext\u001b[0m\u001b[1;33m)\u001b[0m\u001b[1;33m\u001b[0m\u001b[1;33m\u001b[0m\u001b[0m\n",
      "\u001b[1;32mD:\\Software\\Anaconda3\\lib\\site-packages\\tweepy\\api.py\u001b[0m in \u001b[0;36mwrapper\u001b[1;34m(*args, **kwargs)\u001b[0m\n\u001b[0;32m     31\u001b[0m         \u001b[1;33m@\u001b[0m\u001b[0mfunctools\u001b[0m\u001b[1;33m.\u001b[0m\u001b[0mwraps\u001b[0m\u001b[1;33m(\u001b[0m\u001b[0mmethod\u001b[0m\u001b[1;33m)\u001b[0m\u001b[1;33m\u001b[0m\u001b[1;33m\u001b[0m\u001b[0m\n\u001b[0;32m     32\u001b[0m         \u001b[1;32mdef\u001b[0m \u001b[0mwrapper\u001b[0m\u001b[1;33m(\u001b[0m\u001b[1;33m*\u001b[0m\u001b[0margs\u001b[0m\u001b[1;33m,\u001b[0m \u001b[1;33m**\u001b[0m\u001b[0mkwargs\u001b[0m\u001b[1;33m)\u001b[0m\u001b[1;33m:\u001b[0m\u001b[1;33m\u001b[0m\u001b[1;33m\u001b[0m\u001b[0m\n\u001b[1;32m---> 33\u001b[1;33m             \u001b[1;32mreturn\u001b[0m \u001b[0mmethod\u001b[0m\u001b[1;33m(\u001b[0m\u001b[1;33m*\u001b[0m\u001b[0margs\u001b[0m\u001b[1;33m,\u001b[0m \u001b[1;33m**\u001b[0m\u001b[0mkwargs\u001b[0m\u001b[1;33m)\u001b[0m\u001b[1;33m\u001b[0m\u001b[1;33m\u001b[0m\u001b[0m\n\u001b[0m\u001b[0;32m     34\u001b[0m         \u001b[0mwrapper\u001b[0m\u001b[1;33m.\u001b[0m\u001b[0mpagination_mode\u001b[0m \u001b[1;33m=\u001b[0m \u001b[0mmode\u001b[0m\u001b[1;33m\u001b[0m\u001b[1;33m\u001b[0m\u001b[0m\n\u001b[0;32m     35\u001b[0m         \u001b[1;32mreturn\u001b[0m \u001b[0mwrapper\u001b[0m\u001b[1;33m\u001b[0m\u001b[1;33m\u001b[0m\u001b[0m\n",
      "\u001b[1;32mD:\\Software\\Anaconda3\\lib\\site-packages\\tweepy\\api.py\u001b[0m in \u001b[0;36mwrapper\u001b[1;34m(*args, **kwargs)\u001b[0m\n\u001b[0;32m     44\u001b[0m             \u001b[0mkwargs\u001b[0m\u001b[1;33m[\u001b[0m\u001b[1;34m'payload_list'\u001b[0m\u001b[1;33m]\u001b[0m \u001b[1;33m=\u001b[0m \u001b[0mpayload_list\u001b[0m\u001b[1;33m\u001b[0m\u001b[1;33m\u001b[0m\u001b[0m\n\u001b[0;32m     45\u001b[0m             \u001b[0mkwargs\u001b[0m\u001b[1;33m[\u001b[0m\u001b[1;34m'payload_type'\u001b[0m\u001b[1;33m]\u001b[0m \u001b[1;33m=\u001b[0m \u001b[0mpayload_type\u001b[0m\u001b[1;33m\u001b[0m\u001b[1;33m\u001b[0m\u001b[0m\n\u001b[1;32m---> 46\u001b[1;33m             \u001b[1;32mreturn\u001b[0m \u001b[0mmethod\u001b[0m\u001b[1;33m(\u001b[0m\u001b[1;33m*\u001b[0m\u001b[0margs\u001b[0m\u001b[1;33m,\u001b[0m \u001b[1;33m**\u001b[0m\u001b[0mkwargs\u001b[0m\u001b[1;33m)\u001b[0m\u001b[1;33m\u001b[0m\u001b[1;33m\u001b[0m\u001b[0m\n\u001b[0m\u001b[0;32m     47\u001b[0m         \u001b[0mwrapper\u001b[0m\u001b[1;33m.\u001b[0m\u001b[0mpayload_list\u001b[0m \u001b[1;33m=\u001b[0m \u001b[0mpayload_list\u001b[0m\u001b[1;33m\u001b[0m\u001b[1;33m\u001b[0m\u001b[0m\n\u001b[0;32m     48\u001b[0m         \u001b[0mwrapper\u001b[0m\u001b[1;33m.\u001b[0m\u001b[0mpayload_type\u001b[0m \u001b[1;33m=\u001b[0m \u001b[0mpayload_type\u001b[0m\u001b[1;33m\u001b[0m\u001b[1;33m\u001b[0m\u001b[0m\n",
      "\u001b[1;32mD:\\Software\\Anaconda3\\lib\\site-packages\\tweepy\\api.py\u001b[0m in \u001b[0;36mhome_timeline\u001b[1;34m(self, **kwargs)\u001b[0m\n\u001b[0;32m    486\u001b[0m         \u001b[0mhttps\u001b[0m\u001b[1;33m:\u001b[0m\u001b[1;33m//\u001b[0m\u001b[0mdeveloper\u001b[0m\u001b[1;33m.\u001b[0m\u001b[0mtwitter\u001b[0m\u001b[1;33m.\u001b[0m\u001b[0mcom\u001b[0m\u001b[1;33m/\u001b[0m\u001b[0men\u001b[0m\u001b[1;33m/\u001b[0m\u001b[0mdocs\u001b[0m\u001b[1;33m/\u001b[0m\u001b[0mtwitter\u001b[0m\u001b[1;33m-\u001b[0m\u001b[0mapi\u001b[0m\u001b[1;33m/\u001b[0m\u001b[0mv1\u001b[0m\u001b[1;33m/\u001b[0m\u001b[0mtweets\u001b[0m\u001b[1;33m/\u001b[0m\u001b[0mtimelines\u001b[0m\u001b[1;33m/\u001b[0m\u001b[0mapi\u001b[0m\u001b[1;33m-\u001b[0m\u001b[0mreference\u001b[0m\u001b[1;33m/\u001b[0m\u001b[0mget\u001b[0m\u001b[1;33m-\u001b[0m\u001b[0mstatuses\u001b[0m\u001b[1;33m-\u001b[0m\u001b[0mhome_timeline\u001b[0m\u001b[1;33m\u001b[0m\u001b[1;33m\u001b[0m\u001b[0m\n\u001b[0;32m    487\u001b[0m         \"\"\"\n\u001b[1;32m--> 488\u001b[1;33m         return self.request(\n\u001b[0m\u001b[0;32m    489\u001b[0m             'GET', 'statuses/home_timeline', endpoint_parameters=(\n\u001b[0;32m    490\u001b[0m                 \u001b[1;34m'count'\u001b[0m\u001b[1;33m,\u001b[0m \u001b[1;34m'since_id'\u001b[0m\u001b[1;33m,\u001b[0m \u001b[1;34m'max_id'\u001b[0m\u001b[1;33m,\u001b[0m \u001b[1;34m'trim_user'\u001b[0m\u001b[1;33m,\u001b[0m \u001b[1;34m'exclude_replies'\u001b[0m\u001b[1;33m,\u001b[0m\u001b[1;33m\u001b[0m\u001b[1;33m\u001b[0m\u001b[0m\n",
      "\u001b[1;32mD:\\Software\\Anaconda3\\lib\\site-packages\\tweepy\\api.py\u001b[0m in \u001b[0;36mrequest\u001b[1;34m(self, method, endpoint, endpoint_parameters, params, headers, json_payload, parser, payload_list, payload_type, post_data, files, require_auth, return_cursors, upload_api, use_cache, **kwargs)\u001b[0m\n\u001b[0;32m    257\u001b[0m                 \u001b[1;32mraise\u001b[0m \u001b[0mUnauthorized\u001b[0m\u001b[1;33m(\u001b[0m\u001b[0mresp\u001b[0m\u001b[1;33m)\u001b[0m\u001b[1;33m\u001b[0m\u001b[1;33m\u001b[0m\u001b[0m\n\u001b[0;32m    258\u001b[0m             \u001b[1;32mif\u001b[0m \u001b[0mresp\u001b[0m\u001b[1;33m.\u001b[0m\u001b[0mstatus_code\u001b[0m \u001b[1;33m==\u001b[0m \u001b[1;36m403\u001b[0m\u001b[1;33m:\u001b[0m\u001b[1;33m\u001b[0m\u001b[1;33m\u001b[0m\u001b[0m\n\u001b[1;32m--> 259\u001b[1;33m                 \u001b[1;32mraise\u001b[0m \u001b[0mForbidden\u001b[0m\u001b[1;33m(\u001b[0m\u001b[0mresp\u001b[0m\u001b[1;33m)\u001b[0m\u001b[1;33m\u001b[0m\u001b[1;33m\u001b[0m\u001b[0m\n\u001b[0m\u001b[0;32m    260\u001b[0m             \u001b[1;32mif\u001b[0m \u001b[0mresp\u001b[0m\u001b[1;33m.\u001b[0m\u001b[0mstatus_code\u001b[0m \u001b[1;33m==\u001b[0m \u001b[1;36m404\u001b[0m\u001b[1;33m:\u001b[0m\u001b[1;33m\u001b[0m\u001b[1;33m\u001b[0m\u001b[0m\n\u001b[0;32m    261\u001b[0m                 \u001b[1;32mraise\u001b[0m \u001b[0mNotFound\u001b[0m\u001b[1;33m(\u001b[0m\u001b[0mresp\u001b[0m\u001b[1;33m)\u001b[0m\u001b[1;33m\u001b[0m\u001b[1;33m\u001b[0m\u001b[0m\n",
      "\u001b[1;31mForbidden\u001b[0m: 403 Forbidden\n453 - You currently have Essential access which includes access to Twitter API v2 endpoints only. If you need access to this endpoint, you’ll need to apply for Elevated access via the Developer Portal. You can learn more here: https://developer.twitter.com/en/docs/twitter-api/getting-started/about-twitter-api#v2-access-leve"
     ]
    }
   ],
   "source": [
    "auth = tweepy.OAuth1UserHandler(\n",
    "   consumer_key, consumer_secret, access_token, access_token_secret\n",
    ")\n",
    "\n",
    "api = tweepy.API(auth)\n",
    "\n",
    "public_tweets = api.home_timeline()\n",
    "for tweet in public_tweets:\n",
    "    print(tweet.text)"
   ]
  },
  {
   "cell_type": "code",
   "execution_count": 2,
   "id": "accb93ab",
   "metadata": {},
   "outputs": [
    {
     "ename": "NameError",
     "evalue": "name 'tweets' is not defined",
     "output_type": "error",
     "traceback": [
      "\u001b[1;31m---------------------------------------------------------------------------\u001b[0m",
      "\u001b[1;31mNameError\u001b[0m                                 Traceback (most recent call last)",
      "\u001b[1;32mC:\\Users\\JUNQIC~1\\AppData\\Local\\Temp/ipykernel_8548/837348685.py\u001b[0m in \u001b[0;36m<module>\u001b[1;34m\u001b[0m\n\u001b[0;32m     14\u001b[0m \u001b[1;31m# store the API responses in a list\u001b[0m\u001b[1;33m\u001b[0m\u001b[1;33m\u001b[0m\u001b[0m\n\u001b[0;32m     15\u001b[0m \u001b[0mtweets_copy\u001b[0m \u001b[1;33m=\u001b[0m \u001b[1;33m[\u001b[0m\u001b[1;33m]\u001b[0m\u001b[1;33m\u001b[0m\u001b[1;33m\u001b[0m\u001b[0m\n\u001b[1;32m---> 16\u001b[1;33m \u001b[1;32mfor\u001b[0m \u001b[0mtweet\u001b[0m \u001b[1;32min\u001b[0m \u001b[0mtweets\u001b[0m\u001b[1;33m:\u001b[0m\u001b[1;33m\u001b[0m\u001b[1;33m\u001b[0m\u001b[0m\n\u001b[0m\u001b[0;32m     17\u001b[0m     \u001b[0mtweets_copy\u001b[0m\u001b[1;33m.\u001b[0m\u001b[0mappend\u001b[0m\u001b[1;33m(\u001b[0m\u001b[0mtweet\u001b[0m\u001b[1;33m)\u001b[0m\u001b[1;33m\u001b[0m\u001b[1;33m\u001b[0m\u001b[0m\n\u001b[0;32m     18\u001b[0m \u001b[1;33m\u001b[0m\u001b[0m\n",
      "\u001b[1;31mNameError\u001b[0m: name 'tweets' is not defined"
     ]
    }
   ],
   "source": [
    "# import tweepy\n",
    "import tweepy as tw\n",
    "\n",
    "# your Twitter API key and API secret\n",
    "my_api_key = \"kSuunUrf10tDwGT1PhNDWj4HY\"\n",
    "my_api_secret = \"Mg7Apz65TCxZqPhlnlQV8aBMuRhoDtFOljqbc3uoHp3F3uMzhh\"\n",
    "\n",
    "# authenticate\n",
    "auth = tw.OAuthHandler(my_api_key, my_api_secret)\n",
    "api = tw.API(auth, wait_on_rate_limit=True)\n",
    "\n",
    "search_query = \"#covid19 -filter:retweets\"\n",
    "\n",
    "# get tweets from the API\n",
    "tweets = tw.Cursor(api.search,\n",
    "              q=search_query,\n",
    "              lang=\"en\",\n",
    "              since=\"2020-09-16\").items(50)\n",
    "\n",
    "# store the API responses in a list\n",
    "tweets_copy = []\n",
    "for tweet in tweets:\n",
    "    tweets_copy.append(tweet)\n",
    "    \n",
    "print(\"Total Tweets fetched:\", len(tweets_copy))"
   ]
  },
  {
   "cell_type": "code",
   "execution_count": 15,
   "id": "aa4d1c97",
   "metadata": {},
   "outputs": [
    {
     "ename": "Forbidden",
     "evalue": "403 Forbidden\n453 - You currently have Essential access which includes access to Twitter API v2 endpoints only. If you need access to this endpoint, you’ll need to apply for Elevated access via the Developer Portal. You can learn more here: https://developer.twitter.com/en/docs/twitter-api/getting-started/about-twitter-api#v2-access-leve",
     "output_type": "error",
     "traceback": [
      "\u001b[1;31m---------------------------------------------------------------------------\u001b[0m",
      "\u001b[1;31mForbidden\u001b[0m                                 Traceback (most recent call last)",
      "\u001b[1;32mC:\\Users\\JUNQIC~1\\AppData\\Local\\Temp/ipykernel_13064/3731801.py\u001b[0m in \u001b[0;36m<module>\u001b[1;34m\u001b[0m\n\u001b[1;32m----> 1\u001b[1;33m \u001b[1;32mfor\u001b[0m \u001b[0mtweets\u001b[0m \u001b[1;32min\u001b[0m \u001b[0mapi\u001b[0m\u001b[1;33m.\u001b[0m\u001b[0msearch_tweets\u001b[0m\u001b[1;33m(\u001b[0m\u001b[0mq\u001b[0m\u001b[1;33m=\u001b[0m\u001b[1;34m\"iphone\"\u001b[0m\u001b[1;33m,\u001b[0m \u001b[0mlang\u001b[0m\u001b[1;33m=\u001b[0m\u001b[1;34m\"en\"\u001b[0m\u001b[1;33m)\u001b[0m\u001b[1;33m:\u001b[0m\u001b[1;33m\u001b[0m\u001b[1;33m\u001b[0m\u001b[0m\n\u001b[0m\u001b[0;32m      2\u001b[0m     \u001b[0mprint\u001b[0m\u001b[1;33m(\u001b[0m\u001b[0mtweet\u001b[0m\u001b[1;33m.\u001b[0m\u001b[0mtext\u001b[0m\u001b[1;33m)\u001b[0m\u001b[1;33m\u001b[0m\u001b[1;33m\u001b[0m\u001b[0m\n",
      "\u001b[1;32mD:\\Software\\Anaconda3\\lib\\site-packages\\tweepy\\api.py\u001b[0m in \u001b[0;36mwrapper\u001b[1;34m(*args, **kwargs)\u001b[0m\n\u001b[0;32m     31\u001b[0m         \u001b[1;33m@\u001b[0m\u001b[0mfunctools\u001b[0m\u001b[1;33m.\u001b[0m\u001b[0mwraps\u001b[0m\u001b[1;33m(\u001b[0m\u001b[0mmethod\u001b[0m\u001b[1;33m)\u001b[0m\u001b[1;33m\u001b[0m\u001b[1;33m\u001b[0m\u001b[0m\n\u001b[0;32m     32\u001b[0m         \u001b[1;32mdef\u001b[0m \u001b[0mwrapper\u001b[0m\u001b[1;33m(\u001b[0m\u001b[1;33m*\u001b[0m\u001b[0margs\u001b[0m\u001b[1;33m,\u001b[0m \u001b[1;33m**\u001b[0m\u001b[0mkwargs\u001b[0m\u001b[1;33m)\u001b[0m\u001b[1;33m:\u001b[0m\u001b[1;33m\u001b[0m\u001b[1;33m\u001b[0m\u001b[0m\n\u001b[1;32m---> 33\u001b[1;33m             \u001b[1;32mreturn\u001b[0m \u001b[0mmethod\u001b[0m\u001b[1;33m(\u001b[0m\u001b[1;33m*\u001b[0m\u001b[0margs\u001b[0m\u001b[1;33m,\u001b[0m \u001b[1;33m**\u001b[0m\u001b[0mkwargs\u001b[0m\u001b[1;33m)\u001b[0m\u001b[1;33m\u001b[0m\u001b[1;33m\u001b[0m\u001b[0m\n\u001b[0m\u001b[0;32m     34\u001b[0m         \u001b[0mwrapper\u001b[0m\u001b[1;33m.\u001b[0m\u001b[0mpagination_mode\u001b[0m \u001b[1;33m=\u001b[0m \u001b[0mmode\u001b[0m\u001b[1;33m\u001b[0m\u001b[1;33m\u001b[0m\u001b[0m\n\u001b[0;32m     35\u001b[0m         \u001b[1;32mreturn\u001b[0m \u001b[0mwrapper\u001b[0m\u001b[1;33m\u001b[0m\u001b[1;33m\u001b[0m\u001b[0m\n",
      "\u001b[1;32mD:\\Software\\Anaconda3\\lib\\site-packages\\tweepy\\api.py\u001b[0m in \u001b[0;36mwrapper\u001b[1;34m(*args, **kwargs)\u001b[0m\n\u001b[0;32m     44\u001b[0m             \u001b[0mkwargs\u001b[0m\u001b[1;33m[\u001b[0m\u001b[1;34m'payload_list'\u001b[0m\u001b[1;33m]\u001b[0m \u001b[1;33m=\u001b[0m \u001b[0mpayload_list\u001b[0m\u001b[1;33m\u001b[0m\u001b[1;33m\u001b[0m\u001b[0m\n\u001b[0;32m     45\u001b[0m             \u001b[0mkwargs\u001b[0m\u001b[1;33m[\u001b[0m\u001b[1;34m'payload_type'\u001b[0m\u001b[1;33m]\u001b[0m \u001b[1;33m=\u001b[0m \u001b[0mpayload_type\u001b[0m\u001b[1;33m\u001b[0m\u001b[1;33m\u001b[0m\u001b[0m\n\u001b[1;32m---> 46\u001b[1;33m             \u001b[1;32mreturn\u001b[0m \u001b[0mmethod\u001b[0m\u001b[1;33m(\u001b[0m\u001b[1;33m*\u001b[0m\u001b[0margs\u001b[0m\u001b[1;33m,\u001b[0m \u001b[1;33m**\u001b[0m\u001b[0mkwargs\u001b[0m\u001b[1;33m)\u001b[0m\u001b[1;33m\u001b[0m\u001b[1;33m\u001b[0m\u001b[0m\n\u001b[0m\u001b[0;32m     47\u001b[0m         \u001b[0mwrapper\u001b[0m\u001b[1;33m.\u001b[0m\u001b[0mpayload_list\u001b[0m \u001b[1;33m=\u001b[0m \u001b[0mpayload_list\u001b[0m\u001b[1;33m\u001b[0m\u001b[1;33m\u001b[0m\u001b[0m\n\u001b[0;32m     48\u001b[0m         \u001b[0mwrapper\u001b[0m\u001b[1;33m.\u001b[0m\u001b[0mpayload_type\u001b[0m \u001b[1;33m=\u001b[0m \u001b[0mpayload_type\u001b[0m\u001b[1;33m\u001b[0m\u001b[1;33m\u001b[0m\u001b[0m\n",
      "\u001b[1;32mD:\\Software\\Anaconda3\\lib\\site-packages\\tweepy\\api.py\u001b[0m in \u001b[0;36msearch_tweets\u001b[1;34m(self, q, **kwargs)\u001b[0m\n\u001b[0;32m   1266\u001b[0m         \u001b[0mhttps\u001b[0m\u001b[1;33m:\u001b[0m\u001b[1;33m//\u001b[0m\u001b[0mdeveloper\u001b[0m\u001b[1;33m.\u001b[0m\u001b[0mtwitter\u001b[0m\u001b[1;33m.\u001b[0m\u001b[0mcom\u001b[0m\u001b[1;33m/\u001b[0m\u001b[0men\u001b[0m\u001b[1;33m/\u001b[0m\u001b[0mdocs\u001b[0m\u001b[1;33m/\u001b[0m\u001b[0mtwitter\u001b[0m\u001b[1;33m-\u001b[0m\u001b[0mapi\u001b[0m\u001b[1;33m/\u001b[0m\u001b[0mv1\u001b[0m\u001b[1;33m/\u001b[0m\u001b[0mtweets\u001b[0m\u001b[1;33m/\u001b[0m\u001b[0msearch\u001b[0m\u001b[1;33m/\u001b[0m\u001b[0mapi\u001b[0m\u001b[1;33m-\u001b[0m\u001b[0mreference\u001b[0m\u001b[1;33m/\u001b[0m\u001b[0mget\u001b[0m\u001b[1;33m-\u001b[0m\u001b[0msearch\u001b[0m\u001b[1;33m-\u001b[0m\u001b[0mtweets\u001b[0m\u001b[1;33m\u001b[0m\u001b[1;33m\u001b[0m\u001b[0m\n\u001b[0;32m   1267\u001b[0m         \"\"\"\n\u001b[1;32m-> 1268\u001b[1;33m         return self.request(\n\u001b[0m\u001b[0;32m   1269\u001b[0m             'GET', 'search/tweets', endpoint_parameters=(\n\u001b[0;32m   1270\u001b[0m                 \u001b[1;34m'q'\u001b[0m\u001b[1;33m,\u001b[0m \u001b[1;34m'geocode'\u001b[0m\u001b[1;33m,\u001b[0m \u001b[1;34m'lang'\u001b[0m\u001b[1;33m,\u001b[0m \u001b[1;34m'locale'\u001b[0m\u001b[1;33m,\u001b[0m \u001b[1;34m'result_type'\u001b[0m\u001b[1;33m,\u001b[0m \u001b[1;34m'count'\u001b[0m\u001b[1;33m,\u001b[0m\u001b[1;33m\u001b[0m\u001b[1;33m\u001b[0m\u001b[0m\n",
      "\u001b[1;32mD:\\Software\\Anaconda3\\lib\\site-packages\\tweepy\\api.py\u001b[0m in \u001b[0;36mrequest\u001b[1;34m(self, method, endpoint, endpoint_parameters, params, headers, json_payload, parser, payload_list, payload_type, post_data, files, require_auth, return_cursors, upload_api, use_cache, **kwargs)\u001b[0m\n\u001b[0;32m    257\u001b[0m                 \u001b[1;32mraise\u001b[0m \u001b[0mUnauthorized\u001b[0m\u001b[1;33m(\u001b[0m\u001b[0mresp\u001b[0m\u001b[1;33m)\u001b[0m\u001b[1;33m\u001b[0m\u001b[1;33m\u001b[0m\u001b[0m\n\u001b[0;32m    258\u001b[0m             \u001b[1;32mif\u001b[0m \u001b[0mresp\u001b[0m\u001b[1;33m.\u001b[0m\u001b[0mstatus_code\u001b[0m \u001b[1;33m==\u001b[0m \u001b[1;36m403\u001b[0m\u001b[1;33m:\u001b[0m\u001b[1;33m\u001b[0m\u001b[1;33m\u001b[0m\u001b[0m\n\u001b[1;32m--> 259\u001b[1;33m                 \u001b[1;32mraise\u001b[0m \u001b[0mForbidden\u001b[0m\u001b[1;33m(\u001b[0m\u001b[0mresp\u001b[0m\u001b[1;33m)\u001b[0m\u001b[1;33m\u001b[0m\u001b[1;33m\u001b[0m\u001b[0m\n\u001b[0m\u001b[0;32m    260\u001b[0m             \u001b[1;32mif\u001b[0m \u001b[0mresp\u001b[0m\u001b[1;33m.\u001b[0m\u001b[0mstatus_code\u001b[0m \u001b[1;33m==\u001b[0m \u001b[1;36m404\u001b[0m\u001b[1;33m:\u001b[0m\u001b[1;33m\u001b[0m\u001b[1;33m\u001b[0m\u001b[0m\n\u001b[0;32m    261\u001b[0m                 \u001b[1;32mraise\u001b[0m \u001b[0mNotFound\u001b[0m\u001b[1;33m(\u001b[0m\u001b[0mresp\u001b[0m\u001b[1;33m)\u001b[0m\u001b[1;33m\u001b[0m\u001b[1;33m\u001b[0m\u001b[0m\n",
      "\u001b[1;31mForbidden\u001b[0m: 403 Forbidden\n453 - You currently have Essential access which includes access to Twitter API v2 endpoints only. If you need access to this endpoint, you’ll need to apply for Elevated access via the Developer Portal. You can learn more here: https://developer.twitter.com/en/docs/twitter-api/getting-started/about-twitter-api#v2-access-leve"
     ]
    }
   ],
   "source": [
    "for tweets in api.search_tweets(q=\"iphone\", lang=\"en\"):\n",
    "    print(tweet.text)"
   ]
  },
  {
   "cell_type": "markdown",
   "id": "975e0e95",
   "metadata": {},
   "source": [
    "# Scweet"
   ]
  },
  {
   "cell_type": "code",
   "execution_count": 8,
   "id": "cbd4f60d",
   "metadata": {},
   "outputs": [
    {
     "name": "stdout",
     "output_type": "stream",
     "text": [
      "Collecting Scweet==1.6\n",
      "  Downloading Scweet-1.6-py3-none-any.whl (13 kB)\n",
      "Collecting chromedriver-autoinstaller\n",
      "  Downloading chromedriver_autoinstaller-0.3.1-py3-none-any.whl (6.3 kB)\n",
      "Requirement already satisfied: pandas in d:\\software\\anaconda3\\lib\\site-packages (from Scweet==1.6) (1.4.1)\n",
      "Collecting python-dotenv\n",
      "  Downloading python_dotenv-0.19.2-py2.py3-none-any.whl (17 kB)\n",
      "Requirement already satisfied: urllib3 in d:\\software\\anaconda3\\lib\\site-packages (from Scweet==1.6) (1.26.8)\n",
      "Collecting selenium\n",
      "  Downloading selenium-4.1.3-py3-none-any.whl (968 kB)\n",
      "Requirement already satisfied: pytz>=2020.1 in d:\\software\\anaconda3\\lib\\site-packages (from pandas->Scweet==1.6) (2021.3)\n",
      "Requirement already satisfied: numpy>=1.18.5 in d:\\software\\anaconda3\\lib\\site-packages (from pandas->Scweet==1.6) (1.21.5)\n",
      "Requirement already satisfied: python-dateutil>=2.8.1 in d:\\software\\anaconda3\\lib\\site-packages (from pandas->Scweet==1.6) (2.8.2)\n",
      "Requirement already satisfied: six>=1.5 in d:\\software\\anaconda3\\lib\\site-packages (from python-dateutil>=2.8.1->pandas->Scweet==1.6) (1.16.0)\n",
      "Collecting trio~=0.17\n",
      "  Downloading trio-0.20.0-py3-none-any.whl (359 kB)\n",
      "Collecting trio-websocket~=0.9\n",
      "  Downloading trio_websocket-0.9.2-py3-none-any.whl (16 kB)\n",
      "Requirement already satisfied: async-generator>=1.9 in d:\\software\\anaconda3\\lib\\site-packages (from trio~=0.17->selenium->Scweet==1.6) (1.10)\n",
      "Requirement already satisfied: sortedcontainers in d:\\software\\anaconda3\\lib\\site-packages (from trio~=0.17->selenium->Scweet==1.6) (2.4.0)\n",
      "Requirement already satisfied: attrs>=19.2.0 in d:\\software\\anaconda3\\lib\\site-packages (from trio~=0.17->selenium->Scweet==1.6) (21.4.0)\n",
      "Requirement already satisfied: sniffio in d:\\software\\anaconda3\\lib\\site-packages (from trio~=0.17->selenium->Scweet==1.6) (1.2.0)\n",
      "Collecting outcome\n",
      "  Downloading outcome-1.1.0-py2.py3-none-any.whl (9.7 kB)\n",
      "Requirement already satisfied: idna in d:\\software\\anaconda3\\lib\\site-packages (from trio~=0.17->selenium->Scweet==1.6) (3.3)\n",
      "Requirement already satisfied: cffi>=1.14 in d:\\software\\anaconda3\\lib\\site-packages (from trio~=0.17->selenium->Scweet==1.6) (1.15.0)\n",
      "Requirement already satisfied: pycparser in d:\\software\\anaconda3\\lib\\site-packages (from cffi>=1.14->trio~=0.17->selenium->Scweet==1.6) (2.21)\n",
      "Collecting wsproto>=0.14\n",
      "  Downloading wsproto-1.1.0-py3-none-any.whl (24 kB)\n",
      "Requirement already satisfied: pyOpenSSL>=0.14 in d:\\software\\anaconda3\\lib\\site-packages (from urllib3->Scweet==1.6) (21.0.0)\n",
      "Requirement already satisfied: cryptography>=1.3.4 in d:\\software\\anaconda3\\lib\\site-packages (from urllib3->Scweet==1.6) (3.4.8)\n",
      "Requirement already satisfied: certifi in d:\\software\\anaconda3\\lib\\site-packages (from urllib3->Scweet==1.6) (2021.10.8)\n",
      "Requirement already satisfied: PySocks!=1.5.7,<2.0,>=1.5.6 in d:\\software\\anaconda3\\lib\\site-packages (from urllib3->Scweet==1.6) (1.7.1)\n",
      "Collecting h11<1,>=0.9.0\n",
      "  Downloading h11-0.13.0-py3-none-any.whl (58 kB)\n",
      "Installing collected packages: outcome, h11, wsproto, trio, trio-websocket, selenium, python-dotenv, chromedriver-autoinstaller, Scweet\n",
      "Successfully installed Scweet-1.6 chromedriver-autoinstaller-0.3.1 h11-0.13.0 outcome-1.1.0 python-dotenv-0.19.2 selenium-4.1.3 trio-0.20.0 trio-websocket-0.9.2 wsproto-1.1.0\n"
     ]
    }
   ],
   "source": [
    "! pip install Scweet==1.6"
   ]
  },
  {
   "cell_type": "code",
   "execution_count": 15,
   "id": "e8253f8f",
   "metadata": {},
   "outputs": [
    {
     "name": "stdout",
     "output_type": "stream",
     "text": [
      "Scraping on headless mode.\n"
     ]
    },
    {
     "ename": "WebDriverException",
     "evalue": "Message: chrome not reachable\nStacktrace:\nBacktrace:\n\tOrdinal0 [0x009FCF43+2608963]\n\tOrdinal0 [0x0098E8C1+2156737]\n\tOrdinal0 [0x00884190+1065360]\n\tOrdinal0 [0x008784FB+1017083]\n\tOrdinal0 [0x008A3978+1194360]\n\tOrdinal0 [0x0089FC0F+1178639]\n\tOrdinal0 [0x0089D4D1+1168593]\n\tOrdinal0 [0x008CFC2F+1375279]\n\tOrdinal0 [0x008CF85A+1374298]\n\tOrdinal0 [0x008CAED6+1355478]\n\tOrdinal0 [0x008A5D86+1203590]\n\tOrdinal0 [0x008A6C66+1207398]\n\tGetHandleVerifier [0x00BA3252+1679186]\n\tGetHandleVerifier [0x00C5591C+2410012]\n\tGetHandleVerifier [0x00A93B41+567361]\n\tGetHandleVerifier [0x00A92CC6+563654]\n\tOrdinal0 [0x00994B5B+2181979]\n\tOrdinal0 [0x00999AA8+2202280]\n\tOrdinal0 [0x00999B95+2202517]\n\tOrdinal0 [0x009A3B2C+2243372]\n\tBaseThreadInitThunk [0x75F96739+25]\n\tRtlGetFullPathName_UEx [0x76F88E7F+1215]\n\tRtlGetFullPathName_UEx [0x76F88E4D+1165]\n",
     "output_type": "error",
     "traceback": [
      "\u001b[1;31m---------------------------------------------------------------------------\u001b[0m",
      "\u001b[1;31mWebDriverException\u001b[0m                        Traceback (most recent call last)",
      "\u001b[1;32mC:\\Users\\JUNQIC~1\\AppData\\Local\\Temp/ipykernel_15980/2244708764.py\u001b[0m in \u001b[0;36m<module>\u001b[1;34m\u001b[0m\n\u001b[0;32m      1\u001b[0m \u001b[1;32mfrom\u001b[0m \u001b[0mScweet\u001b[0m\u001b[1;33m.\u001b[0m\u001b[0mscweet\u001b[0m \u001b[1;32mimport\u001b[0m \u001b[0mscrape\u001b[0m\u001b[1;33m\u001b[0m\u001b[1;33m\u001b[0m\u001b[0m\n\u001b[0;32m      2\u001b[0m \u001b[1;33m\u001b[0m\u001b[0m\n\u001b[1;32m----> 3\u001b[1;33m \u001b[0mdata\u001b[0m \u001b[1;33m=\u001b[0m \u001b[0mscrape\u001b[0m\u001b[1;33m(\u001b[0m\u001b[0mwords\u001b[0m\u001b[1;33m=\u001b[0m\u001b[1;33m[\u001b[0m\u001b[1;34m\"nlp\"\u001b[0m\u001b[1;33m]\u001b[0m\u001b[1;33m,\u001b[0m \u001b[0msince\u001b[0m\u001b[1;33m=\u001b[0m\u001b[1;34m\"2022-01-01\"\u001b[0m\u001b[1;33m,\u001b[0m \u001b[0muntil\u001b[0m\u001b[1;33m=\u001b[0m\u001b[1;34m\"2022-01-02\"\u001b[0m\u001b[1;33m)\u001b[0m\u001b[1;33m\u001b[0m\u001b[1;33m\u001b[0m\u001b[0m\n\u001b[0m",
      "\u001b[1;32mD:\\Software\\Anaconda3\\lib\\site-packages\\Scweet\\scweet.py\u001b[0m in \u001b[0;36mscrape\u001b[1;34m(since, until, words, to_account, from_account, mention_account, interval, lang, headless, limit, display_type, resume, proxy, hashtag, show_images, save_images, save_dir, filter_replies, proximity)\u001b[0m\n\u001b[0;32m     68\u001b[0m         \u001b[0mshow_images\u001b[0m \u001b[1;33m=\u001b[0m \u001b[1;32mTrue\u001b[0m\u001b[1;33m\u001b[0m\u001b[1;33m\u001b[0m\u001b[0m\n\u001b[0;32m     69\u001b[0m     \u001b[1;31m# initiate the driver\u001b[0m\u001b[1;33m\u001b[0m\u001b[1;33m\u001b[0m\u001b[0m\n\u001b[1;32m---> 70\u001b[1;33m     \u001b[0mdriver\u001b[0m \u001b[1;33m=\u001b[0m \u001b[0minit_driver\u001b[0m\u001b[1;33m(\u001b[0m\u001b[0mheadless\u001b[0m\u001b[1;33m,\u001b[0m \u001b[0mproxy\u001b[0m\u001b[1;33m,\u001b[0m \u001b[0mshow_images\u001b[0m\u001b[1;33m)\u001b[0m\u001b[1;33m\u001b[0m\u001b[1;33m\u001b[0m\u001b[0m\n\u001b[0m\u001b[0;32m     71\u001b[0m     \u001b[1;31m# resume scraping from previous work\u001b[0m\u001b[1;33m\u001b[0m\u001b[1;33m\u001b[0m\u001b[0m\n\u001b[0;32m     72\u001b[0m     \u001b[1;32mif\u001b[0m \u001b[0mresume\u001b[0m\u001b[1;33m:\u001b[0m\u001b[1;33m\u001b[0m\u001b[1;33m\u001b[0m\u001b[0m\n",
      "\u001b[1;32mD:\\Software\\Anaconda3\\lib\\site-packages\\Scweet\\utils.py\u001b[0m in \u001b[0;36minit_driver\u001b[1;34m(headless, proxy, show_images, option)\u001b[0m\n\u001b[0;32m    141\u001b[0m     \u001b[1;32mif\u001b[0m \u001b[0moption\u001b[0m \u001b[1;32mis\u001b[0m \u001b[1;32mnot\u001b[0m \u001b[1;32mNone\u001b[0m\u001b[1;33m:\u001b[0m\u001b[1;33m\u001b[0m\u001b[1;33m\u001b[0m\u001b[0m\n\u001b[0;32m    142\u001b[0m         \u001b[0moptions\u001b[0m\u001b[1;33m.\u001b[0m\u001b[0madd_argument\u001b[0m\u001b[1;33m(\u001b[0m\u001b[0moption\u001b[0m\u001b[1;33m)\u001b[0m\u001b[1;33m\u001b[0m\u001b[1;33m\u001b[0m\u001b[0m\n\u001b[1;32m--> 143\u001b[1;33m     \u001b[0mdriver\u001b[0m \u001b[1;33m=\u001b[0m \u001b[0mwebdriver\u001b[0m\u001b[1;33m.\u001b[0m\u001b[0mChrome\u001b[0m\u001b[1;33m(\u001b[0m\u001b[0moptions\u001b[0m\u001b[1;33m=\u001b[0m\u001b[0moptions\u001b[0m\u001b[1;33m,\u001b[0m \u001b[0mexecutable_path\u001b[0m\u001b[1;33m=\u001b[0m\u001b[0mchromedriver_path\u001b[0m\u001b[1;33m)\u001b[0m\u001b[1;33m\u001b[0m\u001b[1;33m\u001b[0m\u001b[0m\n\u001b[0m\u001b[0;32m    144\u001b[0m     \u001b[0mdriver\u001b[0m\u001b[1;33m.\u001b[0m\u001b[0mset_page_load_timeout\u001b[0m\u001b[1;33m(\u001b[0m\u001b[1;36m100\u001b[0m\u001b[1;33m)\u001b[0m\u001b[1;33m\u001b[0m\u001b[1;33m\u001b[0m\u001b[0m\n\u001b[0;32m    145\u001b[0m     \u001b[1;32mreturn\u001b[0m \u001b[0mdriver\u001b[0m\u001b[1;33m\u001b[0m\u001b[1;33m\u001b[0m\u001b[0m\n",
      "\u001b[1;32mD:\\Software\\Anaconda3\\lib\\site-packages\\selenium\\webdriver\\chrome\\webdriver.py\u001b[0m in \u001b[0;36m__init__\u001b[1;34m(self, executable_path, port, options, service_args, desired_capabilities, service_log_path, chrome_options, service, keep_alive)\u001b[0m\n\u001b[0;32m     68\u001b[0m             \u001b[0mservice\u001b[0m \u001b[1;33m=\u001b[0m \u001b[0mService\u001b[0m\u001b[1;33m(\u001b[0m\u001b[0mexecutable_path\u001b[0m\u001b[1;33m,\u001b[0m \u001b[0mport\u001b[0m\u001b[1;33m,\u001b[0m \u001b[0mservice_args\u001b[0m\u001b[1;33m,\u001b[0m \u001b[0mservice_log_path\u001b[0m\u001b[1;33m)\u001b[0m\u001b[1;33m\u001b[0m\u001b[1;33m\u001b[0m\u001b[0m\n\u001b[0;32m     69\u001b[0m \u001b[1;33m\u001b[0m\u001b[0m\n\u001b[1;32m---> 70\u001b[1;33m         super(WebDriver, self).__init__(DesiredCapabilities.CHROME['browserName'], \"goog\",\n\u001b[0m\u001b[0;32m     71\u001b[0m                                         \u001b[0mport\u001b[0m\u001b[1;33m,\u001b[0m \u001b[0moptions\u001b[0m\u001b[1;33m,\u001b[0m\u001b[1;33m\u001b[0m\u001b[1;33m\u001b[0m\u001b[0m\n\u001b[0;32m     72\u001b[0m                                         \u001b[0mservice_args\u001b[0m\u001b[1;33m,\u001b[0m \u001b[0mdesired_capabilities\u001b[0m\u001b[1;33m,\u001b[0m\u001b[1;33m\u001b[0m\u001b[1;33m\u001b[0m\u001b[0m\n",
      "\u001b[1;32mD:\\Software\\Anaconda3\\lib\\site-packages\\selenium\\webdriver\\chromium\\webdriver.py\u001b[0m in \u001b[0;36m__init__\u001b[1;34m(self, browser_name, vendor_prefix, port, options, service_args, desired_capabilities, service_log_path, service, keep_alive)\u001b[0m\n\u001b[0;32m     91\u001b[0m \u001b[1;33m\u001b[0m\u001b[0m\n\u001b[0;32m     92\u001b[0m         \u001b[1;32mtry\u001b[0m\u001b[1;33m:\u001b[0m\u001b[1;33m\u001b[0m\u001b[1;33m\u001b[0m\u001b[0m\n\u001b[1;32m---> 93\u001b[1;33m             RemoteWebDriver.__init__(\n\u001b[0m\u001b[0;32m     94\u001b[0m                 \u001b[0mself\u001b[0m\u001b[1;33m,\u001b[0m\u001b[1;33m\u001b[0m\u001b[1;33m\u001b[0m\u001b[0m\n\u001b[0;32m     95\u001b[0m                 command_executor=ChromiumRemoteConnection(\n",
      "\u001b[1;32mD:\\Software\\Anaconda3\\lib\\site-packages\\selenium\\webdriver\\remote\\webdriver.py\u001b[0m in \u001b[0;36m__init__\u001b[1;34m(self, command_executor, desired_capabilities, browser_profile, proxy, keep_alive, file_detector, options)\u001b[0m\n\u001b[0;32m    267\u001b[0m         \u001b[0mself\u001b[0m\u001b[1;33m.\u001b[0m\u001b[0mfile_detector\u001b[0m \u001b[1;33m=\u001b[0m \u001b[0mfile_detector\u001b[0m \u001b[1;32mor\u001b[0m \u001b[0mLocalFileDetector\u001b[0m\u001b[1;33m(\u001b[0m\u001b[1;33m)\u001b[0m\u001b[1;33m\u001b[0m\u001b[1;33m\u001b[0m\u001b[0m\n\u001b[0;32m    268\u001b[0m         \u001b[0mself\u001b[0m\u001b[1;33m.\u001b[0m\u001b[0mstart_client\u001b[0m\u001b[1;33m(\u001b[0m\u001b[1;33m)\u001b[0m\u001b[1;33m\u001b[0m\u001b[1;33m\u001b[0m\u001b[0m\n\u001b[1;32m--> 269\u001b[1;33m         \u001b[0mself\u001b[0m\u001b[1;33m.\u001b[0m\u001b[0mstart_session\u001b[0m\u001b[1;33m(\u001b[0m\u001b[0mcapabilities\u001b[0m\u001b[1;33m,\u001b[0m \u001b[0mbrowser_profile\u001b[0m\u001b[1;33m)\u001b[0m\u001b[1;33m\u001b[0m\u001b[1;33m\u001b[0m\u001b[0m\n\u001b[0m\u001b[0;32m    270\u001b[0m \u001b[1;33m\u001b[0m\u001b[0m\n\u001b[0;32m    271\u001b[0m     \u001b[1;32mdef\u001b[0m \u001b[0m__repr__\u001b[0m\u001b[1;33m(\u001b[0m\u001b[0mself\u001b[0m\u001b[1;33m)\u001b[0m\u001b[1;33m:\u001b[0m\u001b[1;33m\u001b[0m\u001b[1;33m\u001b[0m\u001b[0m\n",
      "\u001b[1;32mD:\\Software\\Anaconda3\\lib\\site-packages\\selenium\\webdriver\\remote\\webdriver.py\u001b[0m in \u001b[0;36mstart_session\u001b[1;34m(self, capabilities, browser_profile)\u001b[0m\n\u001b[0;32m    358\u001b[0m         parameters = {\"capabilities\": w3c_caps,\n\u001b[0;32m    359\u001b[0m                       \"desiredCapabilities\": capabilities}\n\u001b[1;32m--> 360\u001b[1;33m         \u001b[0mresponse\u001b[0m \u001b[1;33m=\u001b[0m \u001b[0mself\u001b[0m\u001b[1;33m.\u001b[0m\u001b[0mexecute\u001b[0m\u001b[1;33m(\u001b[0m\u001b[0mCommand\u001b[0m\u001b[1;33m.\u001b[0m\u001b[0mNEW_SESSION\u001b[0m\u001b[1;33m,\u001b[0m \u001b[0mparameters\u001b[0m\u001b[1;33m)\u001b[0m\u001b[1;33m\u001b[0m\u001b[1;33m\u001b[0m\u001b[0m\n\u001b[0m\u001b[0;32m    361\u001b[0m         \u001b[1;32mif\u001b[0m \u001b[1;34m'sessionId'\u001b[0m \u001b[1;32mnot\u001b[0m \u001b[1;32min\u001b[0m \u001b[0mresponse\u001b[0m\u001b[1;33m:\u001b[0m\u001b[1;33m\u001b[0m\u001b[1;33m\u001b[0m\u001b[0m\n\u001b[0;32m    362\u001b[0m             \u001b[0mresponse\u001b[0m \u001b[1;33m=\u001b[0m \u001b[0mresponse\u001b[0m\u001b[1;33m[\u001b[0m\u001b[1;34m'value'\u001b[0m\u001b[1;33m]\u001b[0m\u001b[1;33m\u001b[0m\u001b[1;33m\u001b[0m\u001b[0m\n",
      "\u001b[1;32mD:\\Software\\Anaconda3\\lib\\site-packages\\selenium\\webdriver\\remote\\webdriver.py\u001b[0m in \u001b[0;36mexecute\u001b[1;34m(self, driver_command, params)\u001b[0m\n\u001b[0;32m    423\u001b[0m         \u001b[0mresponse\u001b[0m \u001b[1;33m=\u001b[0m \u001b[0mself\u001b[0m\u001b[1;33m.\u001b[0m\u001b[0mcommand_executor\u001b[0m\u001b[1;33m.\u001b[0m\u001b[0mexecute\u001b[0m\u001b[1;33m(\u001b[0m\u001b[0mdriver_command\u001b[0m\u001b[1;33m,\u001b[0m \u001b[0mparams\u001b[0m\u001b[1;33m)\u001b[0m\u001b[1;33m\u001b[0m\u001b[1;33m\u001b[0m\u001b[0m\n\u001b[0;32m    424\u001b[0m         \u001b[1;32mif\u001b[0m \u001b[0mresponse\u001b[0m\u001b[1;33m:\u001b[0m\u001b[1;33m\u001b[0m\u001b[1;33m\u001b[0m\u001b[0m\n\u001b[1;32m--> 425\u001b[1;33m             \u001b[0mself\u001b[0m\u001b[1;33m.\u001b[0m\u001b[0merror_handler\u001b[0m\u001b[1;33m.\u001b[0m\u001b[0mcheck_response\u001b[0m\u001b[1;33m(\u001b[0m\u001b[0mresponse\u001b[0m\u001b[1;33m)\u001b[0m\u001b[1;33m\u001b[0m\u001b[1;33m\u001b[0m\u001b[0m\n\u001b[0m\u001b[0;32m    426\u001b[0m             response['value'] = self._unwrap_value(\n\u001b[0;32m    427\u001b[0m                 response.get('value', None))\n",
      "\u001b[1;32mD:\\Software\\Anaconda3\\lib\\site-packages\\selenium\\webdriver\\remote\\errorhandler.py\u001b[0m in \u001b[0;36mcheck_response\u001b[1;34m(self, response)\u001b[0m\n\u001b[0;32m    245\u001b[0m                 \u001b[0malert_text\u001b[0m \u001b[1;33m=\u001b[0m \u001b[0mvalue\u001b[0m\u001b[1;33m[\u001b[0m\u001b[1;34m'alert'\u001b[0m\u001b[1;33m]\u001b[0m\u001b[1;33m.\u001b[0m\u001b[0mget\u001b[0m\u001b[1;33m(\u001b[0m\u001b[1;34m'text'\u001b[0m\u001b[1;33m)\u001b[0m\u001b[1;33m\u001b[0m\u001b[1;33m\u001b[0m\u001b[0m\n\u001b[0;32m    246\u001b[0m             \u001b[1;32mraise\u001b[0m \u001b[0mexception_class\u001b[0m\u001b[1;33m(\u001b[0m\u001b[0mmessage\u001b[0m\u001b[1;33m,\u001b[0m \u001b[0mscreen\u001b[0m\u001b[1;33m,\u001b[0m \u001b[0mstacktrace\u001b[0m\u001b[1;33m,\u001b[0m \u001b[0malert_text\u001b[0m\u001b[1;33m)\u001b[0m  \u001b[1;31m# type: ignore[call-arg]  # mypy is not smart enough here\u001b[0m\u001b[1;33m\u001b[0m\u001b[1;33m\u001b[0m\u001b[0m\n\u001b[1;32m--> 247\u001b[1;33m         \u001b[1;32mraise\u001b[0m \u001b[0mexception_class\u001b[0m\u001b[1;33m(\u001b[0m\u001b[0mmessage\u001b[0m\u001b[1;33m,\u001b[0m \u001b[0mscreen\u001b[0m\u001b[1;33m,\u001b[0m \u001b[0mstacktrace\u001b[0m\u001b[1;33m)\u001b[0m\u001b[1;33m\u001b[0m\u001b[1;33m\u001b[0m\u001b[0m\n\u001b[0m\u001b[0;32m    248\u001b[0m \u001b[1;33m\u001b[0m\u001b[0m\n\u001b[0;32m    249\u001b[0m     \u001b[1;32mdef\u001b[0m \u001b[0m_value_or_default\u001b[0m\u001b[1;33m(\u001b[0m\u001b[0mself\u001b[0m\u001b[1;33m,\u001b[0m \u001b[0mobj\u001b[0m\u001b[1;33m:\u001b[0m \u001b[0mMapping\u001b[0m\u001b[1;33m[\u001b[0m\u001b[0m_KT\u001b[0m\u001b[1;33m,\u001b[0m \u001b[0m_VT\u001b[0m\u001b[1;33m]\u001b[0m\u001b[1;33m,\u001b[0m \u001b[0mkey\u001b[0m\u001b[1;33m:\u001b[0m \u001b[0m_KT\u001b[0m\u001b[1;33m,\u001b[0m \u001b[0mdefault\u001b[0m\u001b[1;33m:\u001b[0m \u001b[0m_VT\u001b[0m\u001b[1;33m)\u001b[0m \u001b[1;33m->\u001b[0m \u001b[0m_VT\u001b[0m\u001b[1;33m:\u001b[0m\u001b[1;33m\u001b[0m\u001b[1;33m\u001b[0m\u001b[0m\n",
      "\u001b[1;31mWebDriverException\u001b[0m: Message: chrome not reachable\nStacktrace:\nBacktrace:\n\tOrdinal0 [0x009FCF43+2608963]\n\tOrdinal0 [0x0098E8C1+2156737]\n\tOrdinal0 [0x00884190+1065360]\n\tOrdinal0 [0x008784FB+1017083]\n\tOrdinal0 [0x008A3978+1194360]\n\tOrdinal0 [0x0089FC0F+1178639]\n\tOrdinal0 [0x0089D4D1+1168593]\n\tOrdinal0 [0x008CFC2F+1375279]\n\tOrdinal0 [0x008CF85A+1374298]\n\tOrdinal0 [0x008CAED6+1355478]\n\tOrdinal0 [0x008A5D86+1203590]\n\tOrdinal0 [0x008A6C66+1207398]\n\tGetHandleVerifier [0x00BA3252+1679186]\n\tGetHandleVerifier [0x00C5591C+2410012]\n\tGetHandleVerifier [0x00A93B41+567361]\n\tGetHandleVerifier [0x00A92CC6+563654]\n\tOrdinal0 [0x00994B5B+2181979]\n\tOrdinal0 [0x00999AA8+2202280]\n\tOrdinal0 [0x00999B95+2202517]\n\tOrdinal0 [0x009A3B2C+2243372]\n\tBaseThreadInitThunk [0x75F96739+25]\n\tRtlGetFullPathName_UEx [0x76F88E7F+1215]\n\tRtlGetFullPathName_UEx [0x76F88E4D+1165]\n"
     ]
    }
   ],
   "source": [
    "from Scweet.scweet import scrape\n",
    "\n",
    "data = scrape(words=[\"nlp\"], since=\"2022-01-01\", until=\"2022-01-02\")"
   ]
  },
  {
   "cell_type": "code",
   "execution_count": 13,
   "id": "e88cc15d",
   "metadata": {},
   "outputs": [
    {
     "ename": "NameError",
     "evalue": "name 'data' is not defined",
     "output_type": "error",
     "traceback": [
      "\u001b[1;31m---------------------------------------------------------------------------\u001b[0m",
      "\u001b[1;31mNameError\u001b[0m                                 Traceback (most recent call last)",
      "\u001b[1;32mC:\\Users\\JUNQIC~1\\AppData\\Local\\Temp/ipykernel_15980/391604064.py\u001b[0m in \u001b[0;36m<module>\u001b[1;34m\u001b[0m\n\u001b[1;32m----> 1\u001b[1;33m \u001b[0mdata\u001b[0m\u001b[1;33m\u001b[0m\u001b[1;33m\u001b[0m\u001b[0m\n\u001b[0m",
      "\u001b[1;31mNameError\u001b[0m: name 'data' is not defined"
     ]
    }
   ],
   "source": [
    "data"
   ]
  },
  {
   "cell_type": "code",
   "execution_count": null,
   "id": "411298b2",
   "metadata": {},
   "outputs": [],
   "source": []
  }
 ],
 "metadata": {
  "kernelspec": {
   "display_name": "Python 3 (ipykernel)",
   "language": "python",
   "name": "python3"
  },
  "language_info": {
   "codemirror_mode": {
    "name": "ipython",
    "version": 3
   },
   "file_extension": ".py",
   "mimetype": "text/x-python",
   "name": "python",
   "nbconvert_exporter": "python",
   "pygments_lexer": "ipython3",
   "version": "3.9.7"
  }
 },
 "nbformat": 4,
 "nbformat_minor": 5
}
